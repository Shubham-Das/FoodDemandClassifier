{
 "cells": [
  {
   "cell_type": "code",
   "execution_count": 1,
   "metadata": {},
   "outputs": [],
   "source": [
    "import pandas as pd\n",
    "import numpy as np\n",
    "import matplotlib.pyplot as plt"
   ]
  },
  {
   "cell_type": "markdown",
   "metadata": {},
   "source": [
    "### Analysing Meal Info"
   ]
  },
  {
   "cell_type": "code",
   "execution_count": 2,
   "metadata": {},
   "outputs": [
    {
     "data": {
      "text/html": [
       "<div>\n",
       "<style scoped>\n",
       "    .dataframe tbody tr th:only-of-type {\n",
       "        vertical-align: middle;\n",
       "    }\n",
       "\n",
       "    .dataframe tbody tr th {\n",
       "        vertical-align: top;\n",
       "    }\n",
       "\n",
       "    .dataframe thead th {\n",
       "        text-align: right;\n",
       "    }\n",
       "</style>\n",
       "<table border=\"1\" class=\"dataframe\">\n",
       "  <thead>\n",
       "    <tr style=\"text-align: right;\">\n",
       "      <th></th>\n",
       "      <th>meal_id</th>\n",
       "      <th>category</th>\n",
       "      <th>cuisine</th>\n",
       "    </tr>\n",
       "  </thead>\n",
       "  <tbody>\n",
       "    <tr>\n",
       "      <th>0</th>\n",
       "      <td>1885</td>\n",
       "      <td>Beverages</td>\n",
       "      <td>Thai</td>\n",
       "    </tr>\n",
       "    <tr>\n",
       "      <th>1</th>\n",
       "      <td>1993</td>\n",
       "      <td>Beverages</td>\n",
       "      <td>Thai</td>\n",
       "    </tr>\n",
       "    <tr>\n",
       "      <th>2</th>\n",
       "      <td>2539</td>\n",
       "      <td>Beverages</td>\n",
       "      <td>Thai</td>\n",
       "    </tr>\n",
       "    <tr>\n",
       "      <th>3</th>\n",
       "      <td>1248</td>\n",
       "      <td>Beverages</td>\n",
       "      <td>Indian</td>\n",
       "    </tr>\n",
       "    <tr>\n",
       "      <th>4</th>\n",
       "      <td>2631</td>\n",
       "      <td>Beverages</td>\n",
       "      <td>Indian</td>\n",
       "    </tr>\n",
       "  </tbody>\n",
       "</table>\n",
       "</div>"
      ],
      "text/plain": [
       "   meal_id   category cuisine\n",
       "0     1885  Beverages    Thai\n",
       "1     1993  Beverages    Thai\n",
       "2     2539  Beverages    Thai\n",
       "3     1248  Beverages  Indian\n",
       "4     2631  Beverages  Indian"
      ]
     },
     "execution_count": 2,
     "metadata": {},
     "output_type": "execute_result"
    }
   ],
   "source": [
    "meal_info = pd.read_csv(\"meal_info.csv\")\n",
    "meal_info.head()"
   ]
  },
  {
   "cell_type": "code",
   "execution_count": 3,
   "metadata": {},
   "outputs": [
    {
     "name": "stdout",
     "output_type": "stream",
     "text": [
      "<class 'pandas.core.frame.DataFrame'>\n",
      "RangeIndex: 51 entries, 0 to 50\n",
      "Data columns (total 3 columns):\n",
      " #   Column    Non-Null Count  Dtype \n",
      "---  ------    --------------  ----- \n",
      " 0   meal_id   51 non-null     int64 \n",
      " 1   category  51 non-null     object\n",
      " 2   cuisine   51 non-null     object\n",
      "dtypes: int64(1), object(2)\n",
      "memory usage: 1.3+ KB\n"
     ]
    }
   ],
   "source": [
    "meal_info.info()"
   ]
  },
  {
   "cell_type": "code",
   "execution_count": 4,
   "metadata": {
    "scrolled": true
   },
   "outputs": [
    {
     "data": {
      "text/plain": [
       "Beverages       12\n",
       "Sandwich         3\n",
       "Rice Bowl        3\n",
       "Salad            3\n",
       "Extras           3\n",
       "Fish             3\n",
       "Soup             3\n",
       "Starters         3\n",
       "Biryani          3\n",
       "Pasta            3\n",
       "Desert           3\n",
       "Pizza            3\n",
       "Other Snacks     3\n",
       "Seafood          3\n",
       "Name: category, dtype: int64"
      ]
     },
     "execution_count": 4,
     "metadata": {},
     "output_type": "execute_result"
    }
   ],
   "source": [
    "meal_info.category.value_counts()"
   ]
  },
  {
   "cell_type": "code",
   "execution_count": 5,
   "metadata": {},
   "outputs": [
    {
     "data": {
      "text/plain": [
       "Thai           15\n",
       "Indian         12\n",
       "Italian        12\n",
       "Continental    12\n",
       "Name: cuisine, dtype: int64"
      ]
     },
     "execution_count": 5,
     "metadata": {},
     "output_type": "execute_result"
    }
   ],
   "source": [
    "meal_info.cuisine.value_counts()"
   ]
  },
  {
   "cell_type": "markdown",
   "metadata": {},
   "source": [
    "###### Nothing to clean in the meal_info"
   ]
  },
  {
   "cell_type": "markdown",
   "metadata": {},
   "source": [
    "### Analysing Fulfilment Centre Info"
   ]
  },
  {
   "cell_type": "code",
   "execution_count": 6,
   "metadata": {},
   "outputs": [
    {
     "data": {
      "text/html": [
       "<div>\n",
       "<style scoped>\n",
       "    .dataframe tbody tr th:only-of-type {\n",
       "        vertical-align: middle;\n",
       "    }\n",
       "\n",
       "    .dataframe tbody tr th {\n",
       "        vertical-align: top;\n",
       "    }\n",
       "\n",
       "    .dataframe thead th {\n",
       "        text-align: right;\n",
       "    }\n",
       "</style>\n",
       "<table border=\"1\" class=\"dataframe\">\n",
       "  <thead>\n",
       "    <tr style=\"text-align: right;\">\n",
       "      <th></th>\n",
       "      <th>center_id</th>\n",
       "      <th>city_code</th>\n",
       "      <th>region_code</th>\n",
       "      <th>center_type</th>\n",
       "      <th>op_area</th>\n",
       "    </tr>\n",
       "  </thead>\n",
       "  <tbody>\n",
       "    <tr>\n",
       "      <th>0</th>\n",
       "      <td>11</td>\n",
       "      <td>679</td>\n",
       "      <td>56</td>\n",
       "      <td>TYPE_A</td>\n",
       "      <td>3.7</td>\n",
       "    </tr>\n",
       "    <tr>\n",
       "      <th>1</th>\n",
       "      <td>13</td>\n",
       "      <td>590</td>\n",
       "      <td>56</td>\n",
       "      <td>TYPE_B</td>\n",
       "      <td>6.7</td>\n",
       "    </tr>\n",
       "    <tr>\n",
       "      <th>2</th>\n",
       "      <td>124</td>\n",
       "      <td>590</td>\n",
       "      <td>56</td>\n",
       "      <td>TYPE_C</td>\n",
       "      <td>4.0</td>\n",
       "    </tr>\n",
       "    <tr>\n",
       "      <th>3</th>\n",
       "      <td>66</td>\n",
       "      <td>648</td>\n",
       "      <td>34</td>\n",
       "      <td>TYPE_A</td>\n",
       "      <td>4.1</td>\n",
       "    </tr>\n",
       "    <tr>\n",
       "      <th>4</th>\n",
       "      <td>94</td>\n",
       "      <td>632</td>\n",
       "      <td>34</td>\n",
       "      <td>TYPE_C</td>\n",
       "      <td>3.6</td>\n",
       "    </tr>\n",
       "  </tbody>\n",
       "</table>\n",
       "</div>"
      ],
      "text/plain": [
       "   center_id  city_code  region_code center_type  op_area\n",
       "0         11        679           56      TYPE_A      3.7\n",
       "1         13        590           56      TYPE_B      6.7\n",
       "2        124        590           56      TYPE_C      4.0\n",
       "3         66        648           34      TYPE_A      4.1\n",
       "4         94        632           34      TYPE_C      3.6"
      ]
     },
     "execution_count": 6,
     "metadata": {},
     "output_type": "execute_result"
    }
   ],
   "source": [
    "fulfilment_center_info = pd.read_csv(\"fulfilment_center_info.csv\")\n",
    "fulfilment_center_info.head()"
   ]
  },
  {
   "cell_type": "code",
   "execution_count": 7,
   "metadata": {},
   "outputs": [
    {
     "name": "stdout",
     "output_type": "stream",
     "text": [
      "<class 'pandas.core.frame.DataFrame'>\n",
      "RangeIndex: 77 entries, 0 to 76\n",
      "Data columns (total 5 columns):\n",
      " #   Column       Non-Null Count  Dtype  \n",
      "---  ------       --------------  -----  \n",
      " 0   center_id    77 non-null     int64  \n",
      " 1   city_code    77 non-null     int64  \n",
      " 2   region_code  77 non-null     int64  \n",
      " 3   center_type  77 non-null     object \n",
      " 4   op_area      77 non-null     float64\n",
      "dtypes: float64(1), int64(3), object(1)\n",
      "memory usage: 3.1+ KB\n"
     ]
    }
   ],
   "source": [
    "fulfilment_center_info.info()"
   ]
  },
  {
   "cell_type": "code",
   "execution_count": 8,
   "metadata": {},
   "outputs": [
    {
     "data": {
      "text/plain": [
       "590    9\n",
       "526    8\n",
       "638    3\n",
       "593    2\n",
       "517    2\n",
       "647    2\n",
       "522    2\n",
       "676    2\n",
       "576    2\n",
       "699    2\n",
       "604    2\n",
       "614    2\n",
       "602    1\n",
       "541    1\n",
       "556    1\n",
       "683    1\n",
       "553    1\n",
       "680    1\n",
       "679    1\n",
       "485    1\n",
       "675    1\n",
       "658    1\n",
       "659    1\n",
       "654    1\n",
       "651    1\n",
       "615    1\n",
       "649    1\n",
       "648    1\n",
       "620    1\n",
       "628    1\n",
       "685    1\n",
       "561    1\n",
       "473    1\n",
       "577    1\n",
       "599    1\n",
       "596    1\n",
       "478    1\n",
       "461    1\n",
       "713    1\n",
       "456    1\n",
       "579    1\n",
       "609    1\n",
       "562    1\n",
       "703    1\n",
       "702    1\n",
       "700    1\n",
       "632    1\n",
       "698    1\n",
       "695    1\n",
       "693    1\n",
       "515    1\n",
       "Name: city_code, dtype: int64"
      ]
     },
     "execution_count": 8,
     "metadata": {},
     "output_type": "execute_result"
    }
   ],
   "source": [
    "fulfilment_center_info.city_code.value_counts()"
   ]
  },
  {
   "cell_type": "code",
   "execution_count": 9,
   "metadata": {},
   "outputs": [
    {
     "data": {
      "text/plain": [
       "56    30\n",
       "34    21\n",
       "77    17\n",
       "85     5\n",
       "93     1\n",
       "71     1\n",
       "35     1\n",
       "23     1\n",
       "Name: region_code, dtype: int64"
      ]
     },
     "execution_count": 9,
     "metadata": {},
     "output_type": "execute_result"
    }
   ],
   "source": [
    "fulfilment_center_info.region_code.value_counts()"
   ]
  },
  {
   "cell_type": "code",
   "execution_count": 10,
   "metadata": {},
   "outputs": [
    {
     "data": {
      "text/plain": [
       "TYPE_A    43\n",
       "TYPE_C    19\n",
       "TYPE_B    15\n",
       "Name: center_type, dtype: int64"
      ]
     },
     "execution_count": 10,
     "metadata": {},
     "output_type": "execute_result"
    }
   ],
   "source": [
    "fulfilment_center_info.center_type.value_counts()"
   ]
  },
  {
   "cell_type": "code",
   "execution_count": 11,
   "metadata": {},
   "outputs": [
    {
     "data": {
      "text/plain": [
       "count    77.000000\n",
       "mean      3.985714\n",
       "std       1.106406\n",
       "min       0.900000\n",
       "25%       3.500000\n",
       "50%       3.900000\n",
       "75%       4.400000\n",
       "max       7.000000\n",
       "Name: op_area, dtype: float64"
      ]
     },
     "execution_count": 11,
     "metadata": {},
     "output_type": "execute_result"
    }
   ],
   "source": [
    "fulfilment_center_info.op_area.describe()"
   ]
  },
  {
   "cell_type": "markdown",
   "metadata": {},
   "source": [
    "###### Nothing to clean in the meal_info"
   ]
  },
  {
   "cell_type": "markdown",
   "metadata": {},
   "source": [
    "### Analysing Training Data"
   ]
  },
  {
   "cell_type": "code",
   "execution_count": 12,
   "metadata": {},
   "outputs": [
    {
     "data": {
      "text/html": [
       "<div>\n",
       "<style scoped>\n",
       "    .dataframe tbody tr th:only-of-type {\n",
       "        vertical-align: middle;\n",
       "    }\n",
       "\n",
       "    .dataframe tbody tr th {\n",
       "        vertical-align: top;\n",
       "    }\n",
       "\n",
       "    .dataframe thead th {\n",
       "        text-align: right;\n",
       "    }\n",
       "</style>\n",
       "<table border=\"1\" class=\"dataframe\">\n",
       "  <thead>\n",
       "    <tr style=\"text-align: right;\">\n",
       "      <th></th>\n",
       "      <th>id</th>\n",
       "      <th>week</th>\n",
       "      <th>center_id</th>\n",
       "      <th>meal_id</th>\n",
       "      <th>checkout_price</th>\n",
       "      <th>base_price</th>\n",
       "      <th>emailer_for_promotion</th>\n",
       "      <th>homepage_featured</th>\n",
       "      <th>num_orders</th>\n",
       "    </tr>\n",
       "  </thead>\n",
       "  <tbody>\n",
       "    <tr>\n",
       "      <th>0</th>\n",
       "      <td>1379560</td>\n",
       "      <td>1</td>\n",
       "      <td>55</td>\n",
       "      <td>1885</td>\n",
       "      <td>136.83</td>\n",
       "      <td>152.29</td>\n",
       "      <td>0</td>\n",
       "      <td>0</td>\n",
       "      <td>177</td>\n",
       "    </tr>\n",
       "    <tr>\n",
       "      <th>1</th>\n",
       "      <td>1466964</td>\n",
       "      <td>1</td>\n",
       "      <td>55</td>\n",
       "      <td>1993</td>\n",
       "      <td>136.83</td>\n",
       "      <td>135.83</td>\n",
       "      <td>0</td>\n",
       "      <td>0</td>\n",
       "      <td>270</td>\n",
       "    </tr>\n",
       "    <tr>\n",
       "      <th>2</th>\n",
       "      <td>1346989</td>\n",
       "      <td>1</td>\n",
       "      <td>55</td>\n",
       "      <td>2539</td>\n",
       "      <td>134.86</td>\n",
       "      <td>135.86</td>\n",
       "      <td>0</td>\n",
       "      <td>0</td>\n",
       "      <td>189</td>\n",
       "    </tr>\n",
       "    <tr>\n",
       "      <th>3</th>\n",
       "      <td>1338232</td>\n",
       "      <td>1</td>\n",
       "      <td>55</td>\n",
       "      <td>2139</td>\n",
       "      <td>339.50</td>\n",
       "      <td>437.53</td>\n",
       "      <td>0</td>\n",
       "      <td>0</td>\n",
       "      <td>54</td>\n",
       "    </tr>\n",
       "    <tr>\n",
       "      <th>4</th>\n",
       "      <td>1448490</td>\n",
       "      <td>1</td>\n",
       "      <td>55</td>\n",
       "      <td>2631</td>\n",
       "      <td>243.50</td>\n",
       "      <td>242.50</td>\n",
       "      <td>0</td>\n",
       "      <td>0</td>\n",
       "      <td>40</td>\n",
       "    </tr>\n",
       "  </tbody>\n",
       "</table>\n",
       "</div>"
      ],
      "text/plain": [
       "        id  week  center_id  meal_id  checkout_price  base_price  \\\n",
       "0  1379560     1         55     1885          136.83      152.29   \n",
       "1  1466964     1         55     1993          136.83      135.83   \n",
       "2  1346989     1         55     2539          134.86      135.86   \n",
       "3  1338232     1         55     2139          339.50      437.53   \n",
       "4  1448490     1         55     2631          243.50      242.50   \n",
       "\n",
       "   emailer_for_promotion  homepage_featured  num_orders  \n",
       "0                      0                  0         177  \n",
       "1                      0                  0         270  \n",
       "2                      0                  0         189  \n",
       "3                      0                  0          54  \n",
       "4                      0                  0          40  "
      ]
     },
     "execution_count": 12,
     "metadata": {},
     "output_type": "execute_result"
    }
   ],
   "source": [
    "training_data = pd.read_csv(\"train.csv\")\n",
    "training_data.head()"
   ]
  },
  {
   "cell_type": "code",
   "execution_count": 13,
   "metadata": {},
   "outputs": [
    {
     "name": "stdout",
     "output_type": "stream",
     "text": [
      "<class 'pandas.core.frame.DataFrame'>\n",
      "RangeIndex: 456548 entries, 0 to 456547\n",
      "Data columns (total 9 columns):\n",
      " #   Column                 Non-Null Count   Dtype  \n",
      "---  ------                 --------------   -----  \n",
      " 0   id                     456548 non-null  int64  \n",
      " 1   week                   456548 non-null  int64  \n",
      " 2   center_id              456548 non-null  int64  \n",
      " 3   meal_id                456548 non-null  int64  \n",
      " 4   checkout_price         456548 non-null  float64\n",
      " 5   base_price             456548 non-null  float64\n",
      " 6   emailer_for_promotion  456548 non-null  int64  \n",
      " 7   homepage_featured      456548 non-null  int64  \n",
      " 8   num_orders             456548 non-null  int64  \n",
      "dtypes: float64(2), int64(7)\n",
      "memory usage: 31.3 MB\n"
     ]
    }
   ],
   "source": [
    "training_data.info()"
   ]
  },
  {
   "cell_type": "code",
   "execution_count": 14,
   "metadata": {},
   "outputs": [
    {
     "data": {
      "text/plain": [
       "122    3359\n",
       "105    3348\n",
       "106    3347\n",
       "140    3332\n",
       "123    3331\n",
       "       ... \n",
       "13     2838\n",
       "12     2831\n",
       "14     2830\n",
       "7      2795\n",
       "8      2786\n",
       "Name: week, Length: 145, dtype: int64"
      ]
     },
     "execution_count": 14,
     "metadata": {},
     "output_type": "execute_result"
    }
   ],
   "source": [
    "training_data.week.value_counts()"
   ]
  },
  {
   "cell_type": "markdown",
   "metadata": {},
   "source": [
    "Training data have unequal observations for weeks. That means, data has missing observations for many weeks."
   ]
  },
  {
   "cell_type": "code",
   "execution_count": 15,
   "metadata": {},
   "outputs": [
    {
     "data": {
      "text/plain": [
       "13     7046\n",
       "10     7015\n",
       "52     6993\n",
       "43     6970\n",
       "67     6915\n",
       "       ... \n",
       "139    4627\n",
       "57     4501\n",
       "162    4366\n",
       "41     4083\n",
       "91     3432\n",
       "Name: center_id, Length: 77, dtype: int64"
      ]
     },
     "execution_count": 15,
     "metadata": {},
     "output_type": "execute_result"
    }
   ],
   "source": [
    "training_data.center_id.value_counts()"
   ]
  },
  {
   "cell_type": "code",
   "execution_count": 16,
   "metadata": {},
   "outputs": [
    {
     "data": {
      "text/plain": [
       "2290    11138\n",
       "1062    11137\n",
       "1727    11136\n",
       "1109    11134\n",
       "1754    11132\n",
       "2707    11123\n",
       "1778    11121\n",
       "1993    11116\n",
       "1962    11114\n",
       "1971    11102\n",
       "1885    11092\n",
       "2581    11072\n",
       "2826    11057\n",
       "2322    11002\n",
       "1558    10952\n",
       "1207    10806\n",
       "2640    10747\n",
       "1230    10746\n",
       "1878    10527\n",
       "2631    10458\n",
       "2539    10451\n",
       "1543    10236\n",
       "2760    10209\n",
       "1248     9939\n",
       "2664     9853\n",
       "2704     9811\n",
       "1445     9727\n",
       "2126     9705\n",
       "1216     9695\n",
       "2304     9676\n",
       "2569     9459\n",
       "2492     9382\n",
       "1525     9359\n",
       "2490     9247\n",
       "2444     9097\n",
       "2139     8899\n",
       "2577     8667\n",
       "2306     8294\n",
       "2867     8092\n",
       "1247     7184\n",
       "1902     6748\n",
       "1770     6682\n",
       "1311     4682\n",
       "1803     4674\n",
       "1571     4511\n",
       "1438     4385\n",
       "2494     4206\n",
       "1198     4206\n",
       "1847     4084\n",
       "2956     3319\n",
       "2104     2357\n",
       "Name: meal_id, dtype: int64"
      ]
     },
     "execution_count": 16,
     "metadata": {},
     "output_type": "execute_result"
    }
   ],
   "source": [
    "training_data.meal_id.value_counts()"
   ]
  },
  {
   "cell_type": "code",
   "execution_count": 17,
   "metadata": {},
   "outputs": [
    {
     "data": {
      "text/plain": [
       "count    456548.000000\n",
       "mean        332.238933\n",
       "std         152.939723\n",
       "min           2.970000\n",
       "25%         228.950000\n",
       "50%         296.820000\n",
       "75%         445.230000\n",
       "max         866.270000\n",
       "Name: checkout_price, dtype: float64"
      ]
     },
     "execution_count": 17,
     "metadata": {},
     "output_type": "execute_result"
    }
   ],
   "source": [
    "training_data.checkout_price.describe()"
   ]
  },
  {
   "cell_type": "code",
   "execution_count": 18,
   "metadata": {},
   "outputs": [
    {
     "data": {
      "text/plain": [
       "count    456548.000000\n",
       "mean        354.156627\n",
       "std         160.715914\n",
       "min          55.350000\n",
       "25%         243.500000\n",
       "50%         310.460000\n",
       "75%         458.870000\n",
       "max         866.270000\n",
       "Name: base_price, dtype: float64"
      ]
     },
     "execution_count": 18,
     "metadata": {},
     "output_type": "execute_result"
    }
   ],
   "source": [
    "training_data.base_price.describe()"
   ]
  },
  {
   "cell_type": "markdown",
   "metadata": {},
   "source": [
    "There is lots of difference in 25% and minimum value in checkout price. "
   ]
  },
  {
   "cell_type": "code",
   "execution_count": 19,
   "metadata": {},
   "outputs": [
    {
     "data": {
      "text/html": [
       "<div>\n",
       "<style scoped>\n",
       "    .dataframe tbody tr th:only-of-type {\n",
       "        vertical-align: middle;\n",
       "    }\n",
       "\n",
       "    .dataframe tbody tr th {\n",
       "        vertical-align: top;\n",
       "    }\n",
       "\n",
       "    .dataframe thead th {\n",
       "        text-align: right;\n",
       "    }\n",
       "</style>\n",
       "<table border=\"1\" class=\"dataframe\">\n",
       "  <thead>\n",
       "    <tr style=\"text-align: right;\">\n",
       "      <th></th>\n",
       "      <th>id</th>\n",
       "      <th>week</th>\n",
       "      <th>center_id</th>\n",
       "      <th>meal_id</th>\n",
       "      <th>checkout_price</th>\n",
       "      <th>base_price</th>\n",
       "      <th>emailer_for_promotion</th>\n",
       "      <th>homepage_featured</th>\n",
       "      <th>num_orders</th>\n",
       "    </tr>\n",
       "  </thead>\n",
       "  <tbody>\n",
       "    <tr>\n",
       "      <th>110286</th>\n",
       "      <td>1300283</td>\n",
       "      <td>38</td>\n",
       "      <td>73</td>\n",
       "      <td>1230</td>\n",
       "      <td>2.97</td>\n",
       "      <td>316.25</td>\n",
       "      <td>0</td>\n",
       "      <td>0</td>\n",
       "      <td>14</td>\n",
       "    </tr>\n",
       "    <tr>\n",
       "      <th>44875</th>\n",
       "      <td>1381921</td>\n",
       "      <td>16</td>\n",
       "      <td>41</td>\n",
       "      <td>1248</td>\n",
       "      <td>45.62</td>\n",
       "      <td>253.23</td>\n",
       "      <td>0</td>\n",
       "      <td>0</td>\n",
       "      <td>123</td>\n",
       "    </tr>\n",
       "    <tr>\n",
       "      <th>44874</th>\n",
       "      <td>1414392</td>\n",
       "      <td>16</td>\n",
       "      <td>41</td>\n",
       "      <td>2631</td>\n",
       "      <td>47.59</td>\n",
       "      <td>253.23</td>\n",
       "      <td>0</td>\n",
       "      <td>0</td>\n",
       "      <td>163</td>\n",
       "    </tr>\n",
       "    <tr>\n",
       "      <th>417180</th>\n",
       "      <td>1372230</td>\n",
       "      <td>134</td>\n",
       "      <td>24</td>\n",
       "      <td>2631</td>\n",
       "      <td>53.41</td>\n",
       "      <td>86.39</td>\n",
       "      <td>1</td>\n",
       "      <td>0</td>\n",
       "      <td>134</td>\n",
       "    </tr>\n",
       "    <tr>\n",
       "      <th>72701</th>\n",
       "      <td>1324508</td>\n",
       "      <td>26</td>\n",
       "      <td>124</td>\n",
       "      <td>1803</td>\n",
       "      <td>55.35</td>\n",
       "      <td>212.43</td>\n",
       "      <td>0</td>\n",
       "      <td>0</td>\n",
       "      <td>81</td>\n",
       "    </tr>\n",
       "  </tbody>\n",
       "</table>\n",
       "</div>"
      ],
      "text/plain": [
       "             id  week  center_id  meal_id  checkout_price  base_price  \\\n",
       "110286  1300283    38         73     1230            2.97      316.25   \n",
       "44875   1381921    16         41     1248           45.62      253.23   \n",
       "44874   1414392    16         41     2631           47.59      253.23   \n",
       "417180  1372230   134         24     2631           53.41       86.39   \n",
       "72701   1324508    26        124     1803           55.35      212.43   \n",
       "\n",
       "        emailer_for_promotion  homepage_featured  num_orders  \n",
       "110286                      0                  0          14  \n",
       "44875                       0                  0         123  \n",
       "44874                       0                  0         163  \n",
       "417180                      1                  0         134  \n",
       "72701                       0                  0          81  "
      ]
     },
     "execution_count": 19,
     "metadata": {},
     "output_type": "execute_result"
    }
   ],
   "source": [
    "training_data.sort_values('checkout_price').head()"
   ]
  },
  {
   "cell_type": "markdown",
   "metadata": {},
   "source": [
    "There is an outlier with checkout_price as 2.97."
   ]
  },
  {
   "cell_type": "code",
   "execution_count": 20,
   "metadata": {},
   "outputs": [
    {
     "data": {
      "text/plain": [
       "count    456548.000000\n",
       "mean        261.872760\n",
       "std         395.922798\n",
       "min          13.000000\n",
       "25%          54.000000\n",
       "50%         136.000000\n",
       "75%         324.000000\n",
       "max       24299.000000\n",
       "Name: num_orders, dtype: float64"
      ]
     },
     "execution_count": 20,
     "metadata": {},
     "output_type": "execute_result"
    }
   ],
   "source": [
    "training_data.num_orders.describe()"
   ]
  },
  {
   "cell_type": "markdown",
   "metadata": {},
   "source": [
    "There is lots of difference in 75% and maximum value."
   ]
  },
  {
   "cell_type": "code",
   "execution_count": 21,
   "metadata": {},
   "outputs": [
    {
     "data": {
      "text/html": [
       "<div>\n",
       "<style scoped>\n",
       "    .dataframe tbody tr th:only-of-type {\n",
       "        vertical-align: middle;\n",
       "    }\n",
       "\n",
       "    .dataframe tbody tr th {\n",
       "        vertical-align: top;\n",
       "    }\n",
       "\n",
       "    .dataframe thead th {\n",
       "        text-align: right;\n",
       "    }\n",
       "</style>\n",
       "<table border=\"1\" class=\"dataframe\">\n",
       "  <thead>\n",
       "    <tr style=\"text-align: right;\">\n",
       "      <th></th>\n",
       "      <th>id</th>\n",
       "      <th>week</th>\n",
       "      <th>center_id</th>\n",
       "      <th>meal_id</th>\n",
       "      <th>checkout_price</th>\n",
       "      <th>base_price</th>\n",
       "      <th>emailer_for_promotion</th>\n",
       "      <th>homepage_featured</th>\n",
       "      <th>num_orders</th>\n",
       "    </tr>\n",
       "  </thead>\n",
       "  <tbody>\n",
       "    <tr>\n",
       "      <th>413351</th>\n",
       "      <td>1346216</td>\n",
       "      <td>132</td>\n",
       "      <td>43</td>\n",
       "      <td>1971</td>\n",
       "      <td>204.70</td>\n",
       "      <td>324.04</td>\n",
       "      <td>1</td>\n",
       "      <td>1</td>\n",
       "      <td>13150</td>\n",
       "    </tr>\n",
       "    <tr>\n",
       "      <th>13923</th>\n",
       "      <td>1470267</td>\n",
       "      <td>5</td>\n",
       "      <td>10</td>\n",
       "      <td>2290</td>\n",
       "      <td>162.99</td>\n",
       "      <td>309.43</td>\n",
       "      <td>1</td>\n",
       "      <td>0</td>\n",
       "      <td>13580</td>\n",
       "    </tr>\n",
       "    <tr>\n",
       "      <th>16904</th>\n",
       "      <td>1087163</td>\n",
       "      <td>6</td>\n",
       "      <td>43</td>\n",
       "      <td>2290</td>\n",
       "      <td>156.20</td>\n",
       "      <td>310.43</td>\n",
       "      <td>0</td>\n",
       "      <td>1</td>\n",
       "      <td>14229</td>\n",
       "    </tr>\n",
       "    <tr>\n",
       "      <th>19700</th>\n",
       "      <td>1300512</td>\n",
       "      <td>7</td>\n",
       "      <td>43</td>\n",
       "      <td>2290</td>\n",
       "      <td>159.08</td>\n",
       "      <td>311.43</td>\n",
       "      <td>1</td>\n",
       "      <td>1</td>\n",
       "      <td>15336</td>\n",
       "    </tr>\n",
       "    <tr>\n",
       "      <th>14050</th>\n",
       "      <td>1452474</td>\n",
       "      <td>5</td>\n",
       "      <td>43</td>\n",
       "      <td>2290</td>\n",
       "      <td>159.08</td>\n",
       "      <td>311.43</td>\n",
       "      <td>1</td>\n",
       "      <td>1</td>\n",
       "      <td>24299</td>\n",
       "    </tr>\n",
       "  </tbody>\n",
       "</table>\n",
       "</div>"
      ],
      "text/plain": [
       "             id  week  center_id  meal_id  checkout_price  base_price  \\\n",
       "413351  1346216   132         43     1971          204.70      324.04   \n",
       "13923   1470267     5         10     2290          162.99      309.43   \n",
       "16904   1087163     6         43     2290          156.20      310.43   \n",
       "19700   1300512     7         43     2290          159.08      311.43   \n",
       "14050   1452474     5         43     2290          159.08      311.43   \n",
       "\n",
       "        emailer_for_promotion  homepage_featured  num_orders  \n",
       "413351                      1                  1       13150  \n",
       "13923                       1                  0       13580  \n",
       "16904                       0                  1       14229  \n",
       "19700                       1                  1       15336  \n",
       "14050                       1                  1       24299  "
      ]
     },
     "execution_count": 21,
     "metadata": {},
     "output_type": "execute_result"
    }
   ],
   "source": [
    "training_data.sort_values('num_orders').tail()"
   ]
  },
  {
   "cell_type": "markdown",
   "metadata": {},
   "source": [
    "Another outlier is present with 24299 number of orders."
   ]
  },
  {
   "cell_type": "code",
   "execution_count": 22,
   "metadata": {},
   "outputs": [
    {
     "data": {
      "text/html": [
       "<div>\n",
       "<style scoped>\n",
       "    .dataframe tbody tr th:only-of-type {\n",
       "        vertical-align: middle;\n",
       "    }\n",
       "\n",
       "    .dataframe tbody tr th {\n",
       "        vertical-align: top;\n",
       "    }\n",
       "\n",
       "    .dataframe thead th {\n",
       "        text-align: right;\n",
       "    }\n",
       "</style>\n",
       "<table border=\"1\" class=\"dataframe\">\n",
       "  <thead>\n",
       "    <tr style=\"text-align: right;\">\n",
       "      <th></th>\n",
       "      <th>id</th>\n",
       "      <th>week</th>\n",
       "      <th>center_id</th>\n",
       "      <th>meal_id</th>\n",
       "      <th>checkout_price</th>\n",
       "      <th>base_price</th>\n",
       "      <th>emailer_for_promotion</th>\n",
       "      <th>homepage_featured</th>\n",
       "      <th>num_orders</th>\n",
       "    </tr>\n",
       "  </thead>\n",
       "  <tbody>\n",
       "    <tr>\n",
       "      <th>107078</th>\n",
       "      <td>1117026</td>\n",
       "      <td>37</td>\n",
       "      <td>17</td>\n",
       "      <td>1247</td>\n",
       "      <td>445.23</td>\n",
       "      <td>445.23</td>\n",
       "      <td>0</td>\n",
       "      <td>0</td>\n",
       "      <td>13</td>\n",
       "    </tr>\n",
       "    <tr>\n",
       "      <th>432865</th>\n",
       "      <td>1322219</td>\n",
       "      <td>138</td>\n",
       "      <td>143</td>\n",
       "      <td>1230</td>\n",
       "      <td>367.63</td>\n",
       "      <td>367.63</td>\n",
       "      <td>0</td>\n",
       "      <td>0</td>\n",
       "      <td>13</td>\n",
       "    </tr>\n",
       "    <tr>\n",
       "      <th>432866</th>\n",
       "      <td>1312985</td>\n",
       "      <td>138</td>\n",
       "      <td>143</td>\n",
       "      <td>2322</td>\n",
       "      <td>369.63</td>\n",
       "      <td>369.63</td>\n",
       "      <td>0</td>\n",
       "      <td>0</td>\n",
       "      <td>13</td>\n",
       "    </tr>\n",
       "    <tr>\n",
       "      <th>28824</th>\n",
       "      <td>1448126</td>\n",
       "      <td>11</td>\n",
       "      <td>109</td>\n",
       "      <td>1770</td>\n",
       "      <td>484.03</td>\n",
       "      <td>486.03</td>\n",
       "      <td>0</td>\n",
       "      <td>0</td>\n",
       "      <td>13</td>\n",
       "    </tr>\n",
       "    <tr>\n",
       "      <th>28823</th>\n",
       "      <td>1066718</td>\n",
       "      <td>11</td>\n",
       "      <td>109</td>\n",
       "      <td>1247</td>\n",
       "      <td>445.23</td>\n",
       "      <td>446.23</td>\n",
       "      <td>0</td>\n",
       "      <td>0</td>\n",
       "      <td>13</td>\n",
       "    </tr>\n",
       "  </tbody>\n",
       "</table>\n",
       "</div>"
      ],
      "text/plain": [
       "             id  week  center_id  meal_id  checkout_price  base_price  \\\n",
       "107078  1117026    37         17     1247          445.23      445.23   \n",
       "432865  1322219   138        143     1230          367.63      367.63   \n",
       "432866  1312985   138        143     2322          369.63      369.63   \n",
       "28824   1448126    11        109     1770          484.03      486.03   \n",
       "28823   1066718    11        109     1247          445.23      446.23   \n",
       "\n",
       "        emailer_for_promotion  homepage_featured  num_orders  \n",
       "107078                      0                  0          13  \n",
       "432865                      0                  0          13  \n",
       "432866                      0                  0          13  \n",
       "28824                       0                  0          13  \n",
       "28823                       0                  0          13  "
      ]
     },
     "execution_count": 22,
     "metadata": {},
     "output_type": "execute_result"
    }
   ],
   "source": [
    "training_data.sort_values('num_orders').head()"
   ]
  },
  {
   "cell_type": "code",
   "execution_count": 23,
   "metadata": {},
   "outputs": [
    {
     "data": {
      "text/plain": [
       "0    419498\n",
       "1     37050\n",
       "Name: emailer_for_promotion, dtype: int64"
      ]
     },
     "execution_count": 23,
     "metadata": {},
     "output_type": "execute_result"
    }
   ],
   "source": [
    "training_data.emailer_for_promotion.value_counts()"
   ]
  },
  {
   "cell_type": "markdown",
   "metadata": {},
   "source": [
    "Data analysing summary of training data:\n",
    "1. There are many missing observations for some weeks\n",
    "2. There is an outlier with checkout_price as 2.97\n",
    "3. Another outlier is present with 24299 number of orders"
   ]
  },
  {
   "cell_type": "code",
   "execution_count": 24,
   "metadata": {},
   "outputs": [
    {
     "data": {
      "text/plain": [
       "count    456548.000000\n",
       "mean        261.872760\n",
       "std         395.922798\n",
       "min          13.000000\n",
       "25%          54.000000\n",
       "50%         136.000000\n",
       "75%         324.000000\n",
       "max       24299.000000\n",
       "Name: num_orders, dtype: float64"
      ]
     },
     "execution_count": 24,
     "metadata": {},
     "output_type": "execute_result"
    }
   ],
   "source": [
    "training_data.num_orders.describe()"
   ]
  },
  {
   "cell_type": "markdown",
   "metadata": {},
   "source": [
    "### Analysing Test Data"
   ]
  },
  {
   "cell_type": "code",
   "execution_count": 25,
   "metadata": {},
   "outputs": [
    {
     "data": {
      "text/html": [
       "<div>\n",
       "<style scoped>\n",
       "    .dataframe tbody tr th:only-of-type {\n",
       "        vertical-align: middle;\n",
       "    }\n",
       "\n",
       "    .dataframe tbody tr th {\n",
       "        vertical-align: top;\n",
       "    }\n",
       "\n",
       "    .dataframe thead th {\n",
       "        text-align: right;\n",
       "    }\n",
       "</style>\n",
       "<table border=\"1\" class=\"dataframe\">\n",
       "  <thead>\n",
       "    <tr style=\"text-align: right;\">\n",
       "      <th></th>\n",
       "      <th>id</th>\n",
       "      <th>week</th>\n",
       "      <th>center_id</th>\n",
       "      <th>meal_id</th>\n",
       "      <th>checkout_price</th>\n",
       "      <th>base_price</th>\n",
       "      <th>emailer_for_promotion</th>\n",
       "      <th>homepage_featured</th>\n",
       "    </tr>\n",
       "  </thead>\n",
       "  <tbody>\n",
       "    <tr>\n",
       "      <th>0</th>\n",
       "      <td>1028232</td>\n",
       "      <td>146</td>\n",
       "      <td>55</td>\n",
       "      <td>1885</td>\n",
       "      <td>158.11</td>\n",
       "      <td>159.11</td>\n",
       "      <td>0</td>\n",
       "      <td>0</td>\n",
       "    </tr>\n",
       "    <tr>\n",
       "      <th>1</th>\n",
       "      <td>1127204</td>\n",
       "      <td>146</td>\n",
       "      <td>55</td>\n",
       "      <td>1993</td>\n",
       "      <td>160.11</td>\n",
       "      <td>159.11</td>\n",
       "      <td>0</td>\n",
       "      <td>0</td>\n",
       "    </tr>\n",
       "    <tr>\n",
       "      <th>2</th>\n",
       "      <td>1212707</td>\n",
       "      <td>146</td>\n",
       "      <td>55</td>\n",
       "      <td>2539</td>\n",
       "      <td>157.14</td>\n",
       "      <td>159.14</td>\n",
       "      <td>0</td>\n",
       "      <td>0</td>\n",
       "    </tr>\n",
       "    <tr>\n",
       "      <th>3</th>\n",
       "      <td>1082698</td>\n",
       "      <td>146</td>\n",
       "      <td>55</td>\n",
       "      <td>2631</td>\n",
       "      <td>162.02</td>\n",
       "      <td>162.02</td>\n",
       "      <td>0</td>\n",
       "      <td>0</td>\n",
       "    </tr>\n",
       "    <tr>\n",
       "      <th>4</th>\n",
       "      <td>1400926</td>\n",
       "      <td>146</td>\n",
       "      <td>55</td>\n",
       "      <td>1248</td>\n",
       "      <td>163.93</td>\n",
       "      <td>163.93</td>\n",
       "      <td>0</td>\n",
       "      <td>0</td>\n",
       "    </tr>\n",
       "  </tbody>\n",
       "</table>\n",
       "</div>"
      ],
      "text/plain": [
       "        id  week  center_id  meal_id  checkout_price  base_price  \\\n",
       "0  1028232   146         55     1885          158.11      159.11   \n",
       "1  1127204   146         55     1993          160.11      159.11   \n",
       "2  1212707   146         55     2539          157.14      159.14   \n",
       "3  1082698   146         55     2631          162.02      162.02   \n",
       "4  1400926   146         55     1248          163.93      163.93   \n",
       "\n",
       "   emailer_for_promotion  homepage_featured  \n",
       "0                      0                  0  \n",
       "1                      0                  0  \n",
       "2                      0                  0  \n",
       "3                      0                  0  \n",
       "4                      0                  0  "
      ]
     },
     "execution_count": 25,
     "metadata": {},
     "output_type": "execute_result"
    }
   ],
   "source": [
    "test_data = pd.read_csv(\"test.csv\")\n",
    "test_data.head()"
   ]
  },
  {
   "cell_type": "code",
   "execution_count": 26,
   "metadata": {},
   "outputs": [
    {
     "name": "stdout",
     "output_type": "stream",
     "text": [
      "<class 'pandas.core.frame.DataFrame'>\n",
      "RangeIndex: 32573 entries, 0 to 32572\n",
      "Data columns (total 8 columns):\n",
      " #   Column                 Non-Null Count  Dtype  \n",
      "---  ------                 --------------  -----  \n",
      " 0   id                     32573 non-null  int64  \n",
      " 1   week                   32573 non-null  int64  \n",
      " 2   center_id              32573 non-null  int64  \n",
      " 3   meal_id                32573 non-null  int64  \n",
      " 4   checkout_price         32573 non-null  float64\n",
      " 5   base_price             32573 non-null  float64\n",
      " 6   emailer_for_promotion  32573 non-null  int64  \n",
      " 7   homepage_featured      32573 non-null  int64  \n",
      "dtypes: float64(2), int64(6)\n",
      "memory usage: 2.0 MB\n"
     ]
    }
   ],
   "source": [
    "test_data.info()"
   ]
  },
  {
   "cell_type": "code",
   "execution_count": 27,
   "metadata": {},
   "outputs": [
    {
     "data": {
      "text/plain": [
       "148    3332\n",
       "149    3313\n",
       "150    3277\n",
       "147    3271\n",
       "153    3268\n",
       "152    3242\n",
       "146    3240\n",
       "154    3228\n",
       "151    3224\n",
       "155    3178\n",
       "Name: week, dtype: int64"
      ]
     },
     "execution_count": 27,
     "metadata": {},
     "output_type": "execute_result"
    }
   ],
   "source": [
    "test_data.week.value_counts()"
   ]
  },
  {
   "cell_type": "markdown",
   "metadata": {},
   "source": [
    "Test data too have missing observations for weeks.\n"
   ]
  },
  {
   "cell_type": "code",
   "execution_count": 28,
   "metadata": {},
   "outputs": [
    {
     "data": {
      "text/plain": [
       "1727    770\n",
       "2826    770\n",
       "2290    770\n",
       "2664    770\n",
       "1754    770\n",
       "1962    770\n",
       "2569    770\n",
       "2581    769\n",
       "1885    769\n",
       "1109    769\n",
       "2490    769\n",
       "1971    768\n",
       "1558    767\n",
       "1993    767\n",
       "1062    766\n",
       "2707    764\n",
       "1778    762\n",
       "2539    761\n",
       "1543    760\n",
       "1207    758\n",
       "2322    752\n",
       "1230    744\n",
       "2640    735\n",
       "2704    724\n",
       "2631    717\n",
       "2304    715\n",
       "2760    712\n",
       "1216    709\n",
       "1878    709\n",
       "2139    671\n",
       "1525    668\n",
       "1248    660\n",
       "2492    638\n",
       "2126    626\n",
       "1445    602\n",
       "2306    592\n",
       "2444    568\n",
       "1571    544\n",
       "2577    540\n",
       "2867    527\n",
       "1770    486\n",
       "1902    435\n",
       "2956    426\n",
       "1247    416\n",
       "2104    361\n",
       "1311    342\n",
       "1803    341\n",
       "1847    333\n",
       "1438    327\n",
       "1198    309\n",
       "2494    305\n",
       "Name: meal_id, dtype: int64"
      ]
     },
     "execution_count": 28,
     "metadata": {},
     "output_type": "execute_result"
    }
   ],
   "source": [
    "test_data.meal_id.value_counts()"
   ]
  },
  {
   "cell_type": "code",
   "execution_count": 29,
   "metadata": {},
   "outputs": [
    {
     "data": {
      "text/plain": [
       "13     509\n",
       "10     508\n",
       "52     506\n",
       "174    504\n",
       "43     499\n",
       "      ... \n",
       "139    321\n",
       "57     311\n",
       "162    310\n",
       "41     299\n",
       "91     280\n",
       "Name: center_id, Length: 77, dtype: int64"
      ]
     },
     "execution_count": 29,
     "metadata": {},
     "output_type": "execute_result"
    }
   ],
   "source": [
    "test_data.center_id.value_counts()"
   ]
  },
  {
   "cell_type": "code",
   "execution_count": 30,
   "metadata": {},
   "outputs": [
    {
     "data": {
      "text/plain": [
       "count    32573.000000\n",
       "mean       341.854440\n",
       "std        153.893886\n",
       "min         67.900000\n",
       "25%        214.430000\n",
       "50%        320.130000\n",
       "75%        446.230000\n",
       "max       1113.620000\n",
       "Name: checkout_price, dtype: float64"
      ]
     },
     "execution_count": 30,
     "metadata": {},
     "output_type": "execute_result"
    }
   ],
   "source": [
    "test_data.checkout_price.describe()"
   ]
  },
  {
   "cell_type": "code",
   "execution_count": 31,
   "metadata": {},
   "outputs": [
    {
     "data": {
      "text/plain": [
       "count    32573.000000\n",
       "mean       356.493615\n",
       "std        155.150101\n",
       "min         89.240000\n",
       "25%        243.500000\n",
       "50%        321.130000\n",
       "75%        455.930000\n",
       "max       1112.620000\n",
       "Name: base_price, dtype: float64"
      ]
     },
     "execution_count": 31,
     "metadata": {},
     "output_type": "execute_result"
    }
   ],
   "source": [
    "test_data.base_price.describe()"
   ]
  },
  {
   "cell_type": "code",
   "execution_count": 32,
   "metadata": {},
   "outputs": [
    {
     "data": {
      "text/plain": [
       "0    30409\n",
       "1     2164\n",
       "Name: emailer_for_promotion, dtype: int64"
      ]
     },
     "execution_count": 32,
     "metadata": {},
     "output_type": "execute_result"
    }
   ],
   "source": [
    "test_data.emailer_for_promotion.value_counts()"
   ]
  },
  {
   "cell_type": "code",
   "execution_count": 33,
   "metadata": {},
   "outputs": [
    {
     "data": {
      "text/plain": [
       "0    29923\n",
       "1     2650\n",
       "Name: homepage_featured, dtype: int64"
      ]
     },
     "execution_count": 33,
     "metadata": {},
     "output_type": "execute_result"
    }
   ],
   "source": [
    "test_data.homepage_featured.value_counts()"
   ]
  },
  {
   "cell_type": "markdown",
   "metadata": {},
   "source": [
    "Test data also contains missing observation for weeks"
   ]
  },
  {
   "cell_type": "markdown",
   "metadata": {},
   "source": [
    "### Data Preprocessing"
   ]
  },
  {
   "cell_type": "code",
   "execution_count": 34,
   "metadata": {},
   "outputs": [
    {
     "data": {
      "text/html": [
       "<div>\n",
       "<style scoped>\n",
       "    .dataframe tbody tr th:only-of-type {\n",
       "        vertical-align: middle;\n",
       "    }\n",
       "\n",
       "    .dataframe tbody tr th {\n",
       "        vertical-align: top;\n",
       "    }\n",
       "\n",
       "    .dataframe thead th {\n",
       "        text-align: right;\n",
       "    }\n",
       "</style>\n",
       "<table border=\"1\" class=\"dataframe\">\n",
       "  <thead>\n",
       "    <tr style=\"text-align: right;\">\n",
       "      <th></th>\n",
       "      <th>id</th>\n",
       "      <th>week</th>\n",
       "      <th>center_id</th>\n",
       "      <th>meal_id</th>\n",
       "      <th>checkout_price</th>\n",
       "      <th>base_price</th>\n",
       "      <th>emailer_for_promotion</th>\n",
       "      <th>homepage_featured</th>\n",
       "    </tr>\n",
       "  </thead>\n",
       "  <tbody>\n",
       "    <tr>\n",
       "      <th>32568</th>\n",
       "      <td>1250239</td>\n",
       "      <td>155</td>\n",
       "      <td>61</td>\n",
       "      <td>1543</td>\n",
       "      <td>482.09</td>\n",
       "      <td>484.09</td>\n",
       "      <td>0</td>\n",
       "      <td>0</td>\n",
       "    </tr>\n",
       "    <tr>\n",
       "      <th>32569</th>\n",
       "      <td>1039516</td>\n",
       "      <td>155</td>\n",
       "      <td>61</td>\n",
       "      <td>2304</td>\n",
       "      <td>483.09</td>\n",
       "      <td>483.09</td>\n",
       "      <td>0</td>\n",
       "      <td>0</td>\n",
       "    </tr>\n",
       "    <tr>\n",
       "      <th>32570</th>\n",
       "      <td>1158107</td>\n",
       "      <td>155</td>\n",
       "      <td>61</td>\n",
       "      <td>2664</td>\n",
       "      <td>322.07</td>\n",
       "      <td>323.07</td>\n",
       "      <td>0</td>\n",
       "      <td>0</td>\n",
       "    </tr>\n",
       "    <tr>\n",
       "      <th>32571</th>\n",
       "      <td>1444235</td>\n",
       "      <td>155</td>\n",
       "      <td>61</td>\n",
       "      <td>2569</td>\n",
       "      <td>322.07</td>\n",
       "      <td>323.07</td>\n",
       "      <td>0</td>\n",
       "      <td>0</td>\n",
       "    </tr>\n",
       "    <tr>\n",
       "      <th>32572</th>\n",
       "      <td>1291286</td>\n",
       "      <td>155</td>\n",
       "      <td>61</td>\n",
       "      <td>2490</td>\n",
       "      <td>276.45</td>\n",
       "      <td>276.45</td>\n",
       "      <td>0</td>\n",
       "      <td>0</td>\n",
       "    </tr>\n",
       "  </tbody>\n",
       "</table>\n",
       "</div>"
      ],
      "text/plain": [
       "            id  week  center_id  meal_id  checkout_price  base_price  \\\n",
       "32568  1250239   155         61     1543          482.09      484.09   \n",
       "32569  1039516   155         61     2304          483.09      483.09   \n",
       "32570  1158107   155         61     2664          322.07      323.07   \n",
       "32571  1444235   155         61     2569          322.07      323.07   \n",
       "32572  1291286   155         61     2490          276.45      276.45   \n",
       "\n",
       "       emailer_for_promotion  homepage_featured  \n",
       "32568                      0                  0  \n",
       "32569                      0                  0  \n",
       "32570                      0                  0  \n",
       "32571                      0                  0  \n",
       "32572                      0                  0  "
      ]
     },
     "execution_count": 34,
     "metadata": {},
     "output_type": "execute_result"
    }
   ],
   "source": [
    "#Combining Test & Train Dataset\n",
    "training_data_without_target = training_data[training_data.columns[training_data.columns != 'num_orders'].values]\n",
    "total_data = training_data_without_target.append(test_data, sort=False)\n",
    "total_data.tail()"
   ]
  },
  {
   "cell_type": "code",
   "execution_count": 35,
   "metadata": {},
   "outputs": [
    {
     "data": {
      "text/html": [
       "<div>\n",
       "<style scoped>\n",
       "    .dataframe tbody tr th:only-of-type {\n",
       "        vertical-align: middle;\n",
       "    }\n",
       "\n",
       "    .dataframe tbody tr th {\n",
       "        vertical-align: top;\n",
       "    }\n",
       "\n",
       "    .dataframe thead th {\n",
       "        text-align: right;\n",
       "    }\n",
       "</style>\n",
       "<table border=\"1\" class=\"dataframe\">\n",
       "  <thead>\n",
       "    <tr style=\"text-align: right;\">\n",
       "      <th></th>\n",
       "      <th>id</th>\n",
       "      <th>week</th>\n",
       "      <th>center_id</th>\n",
       "      <th>meal_id</th>\n",
       "      <th>checkout_price</th>\n",
       "      <th>base_price</th>\n",
       "      <th>emailer_for_promotion</th>\n",
       "      <th>homepage_featured</th>\n",
       "      <th>city_code</th>\n",
       "      <th>region_code</th>\n",
       "      <th>center_type</th>\n",
       "      <th>op_area</th>\n",
       "    </tr>\n",
       "  </thead>\n",
       "  <tbody>\n",
       "    <tr>\n",
       "      <th>0</th>\n",
       "      <td>1379560</td>\n",
       "      <td>1</td>\n",
       "      <td>55</td>\n",
       "      <td>1885</td>\n",
       "      <td>136.83</td>\n",
       "      <td>152.29</td>\n",
       "      <td>0</td>\n",
       "      <td>0</td>\n",
       "      <td>647</td>\n",
       "      <td>56</td>\n",
       "      <td>TYPE_C</td>\n",
       "      <td>2.0</td>\n",
       "    </tr>\n",
       "    <tr>\n",
       "      <th>1</th>\n",
       "      <td>1466964</td>\n",
       "      <td>1</td>\n",
       "      <td>55</td>\n",
       "      <td>1993</td>\n",
       "      <td>136.83</td>\n",
       "      <td>135.83</td>\n",
       "      <td>0</td>\n",
       "      <td>0</td>\n",
       "      <td>647</td>\n",
       "      <td>56</td>\n",
       "      <td>TYPE_C</td>\n",
       "      <td>2.0</td>\n",
       "    </tr>\n",
       "    <tr>\n",
       "      <th>2</th>\n",
       "      <td>1346989</td>\n",
       "      <td>1</td>\n",
       "      <td>55</td>\n",
       "      <td>2539</td>\n",
       "      <td>134.86</td>\n",
       "      <td>135.86</td>\n",
       "      <td>0</td>\n",
       "      <td>0</td>\n",
       "      <td>647</td>\n",
       "      <td>56</td>\n",
       "      <td>TYPE_C</td>\n",
       "      <td>2.0</td>\n",
       "    </tr>\n",
       "    <tr>\n",
       "      <th>3</th>\n",
       "      <td>1338232</td>\n",
       "      <td>1</td>\n",
       "      <td>55</td>\n",
       "      <td>2139</td>\n",
       "      <td>339.50</td>\n",
       "      <td>437.53</td>\n",
       "      <td>0</td>\n",
       "      <td>0</td>\n",
       "      <td>647</td>\n",
       "      <td>56</td>\n",
       "      <td>TYPE_C</td>\n",
       "      <td>2.0</td>\n",
       "    </tr>\n",
       "    <tr>\n",
       "      <th>4</th>\n",
       "      <td>1448490</td>\n",
       "      <td>1</td>\n",
       "      <td>55</td>\n",
       "      <td>2631</td>\n",
       "      <td>243.50</td>\n",
       "      <td>242.50</td>\n",
       "      <td>0</td>\n",
       "      <td>0</td>\n",
       "      <td>647</td>\n",
       "      <td>56</td>\n",
       "      <td>TYPE_C</td>\n",
       "      <td>2.0</td>\n",
       "    </tr>\n",
       "  </tbody>\n",
       "</table>\n",
       "</div>"
      ],
      "text/plain": [
       "        id  week  center_id  meal_id  checkout_price  base_price  \\\n",
       "0  1379560     1         55     1885          136.83      152.29   \n",
       "1  1466964     1         55     1993          136.83      135.83   \n",
       "2  1346989     1         55     2539          134.86      135.86   \n",
       "3  1338232     1         55     2139          339.50      437.53   \n",
       "4  1448490     1         55     2631          243.50      242.50   \n",
       "\n",
       "   emailer_for_promotion  homepage_featured  city_code  region_code  \\\n",
       "0                      0                  0        647           56   \n",
       "1                      0                  0        647           56   \n",
       "2                      0                  0        647           56   \n",
       "3                      0                  0        647           56   \n",
       "4                      0                  0        647           56   \n",
       "\n",
       "  center_type  op_area  \n",
       "0      TYPE_C      2.0  \n",
       "1      TYPE_C      2.0  \n",
       "2      TYPE_C      2.0  \n",
       "3      TYPE_C      2.0  \n",
       "4      TYPE_C      2.0  "
      ]
     },
     "execution_count": 35,
     "metadata": {},
     "output_type": "execute_result"
    }
   ],
   "source": [
    "#merge fulfilment center information into total data\n",
    "total_data = total_data.merge(fulfilment_center_info, on='center_id', how='left')\n",
    "total_data.head()"
   ]
  },
  {
   "cell_type": "code",
   "execution_count": 36,
   "metadata": {},
   "outputs": [
    {
     "data": {
      "text/html": [
       "<div>\n",
       "<style scoped>\n",
       "    .dataframe tbody tr th:only-of-type {\n",
       "        vertical-align: middle;\n",
       "    }\n",
       "\n",
       "    .dataframe tbody tr th {\n",
       "        vertical-align: top;\n",
       "    }\n",
       "\n",
       "    .dataframe thead th {\n",
       "        text-align: right;\n",
       "    }\n",
       "</style>\n",
       "<table border=\"1\" class=\"dataframe\">\n",
       "  <thead>\n",
       "    <tr style=\"text-align: right;\">\n",
       "      <th></th>\n",
       "      <th>id</th>\n",
       "      <th>week</th>\n",
       "      <th>center_id</th>\n",
       "      <th>meal_id</th>\n",
       "      <th>checkout_price</th>\n",
       "      <th>base_price</th>\n",
       "      <th>emailer_for_promotion</th>\n",
       "      <th>homepage_featured</th>\n",
       "      <th>city_code</th>\n",
       "      <th>region_code</th>\n",
       "      <th>center_type</th>\n",
       "      <th>op_area</th>\n",
       "      <th>category</th>\n",
       "      <th>cuisine</th>\n",
       "    </tr>\n",
       "  </thead>\n",
       "  <tbody>\n",
       "    <tr>\n",
       "      <th>0</th>\n",
       "      <td>1379560</td>\n",
       "      <td>1</td>\n",
       "      <td>55</td>\n",
       "      <td>1885</td>\n",
       "      <td>136.83</td>\n",
       "      <td>152.29</td>\n",
       "      <td>0</td>\n",
       "      <td>0</td>\n",
       "      <td>647</td>\n",
       "      <td>56</td>\n",
       "      <td>TYPE_C</td>\n",
       "      <td>2.0</td>\n",
       "      <td>Beverages</td>\n",
       "      <td>Thai</td>\n",
       "    </tr>\n",
       "    <tr>\n",
       "      <th>1</th>\n",
       "      <td>1466964</td>\n",
       "      <td>1</td>\n",
       "      <td>55</td>\n",
       "      <td>1993</td>\n",
       "      <td>136.83</td>\n",
       "      <td>135.83</td>\n",
       "      <td>0</td>\n",
       "      <td>0</td>\n",
       "      <td>647</td>\n",
       "      <td>56</td>\n",
       "      <td>TYPE_C</td>\n",
       "      <td>2.0</td>\n",
       "      <td>Beverages</td>\n",
       "      <td>Thai</td>\n",
       "    </tr>\n",
       "    <tr>\n",
       "      <th>2</th>\n",
       "      <td>1346989</td>\n",
       "      <td>1</td>\n",
       "      <td>55</td>\n",
       "      <td>2539</td>\n",
       "      <td>134.86</td>\n",
       "      <td>135.86</td>\n",
       "      <td>0</td>\n",
       "      <td>0</td>\n",
       "      <td>647</td>\n",
       "      <td>56</td>\n",
       "      <td>TYPE_C</td>\n",
       "      <td>2.0</td>\n",
       "      <td>Beverages</td>\n",
       "      <td>Thai</td>\n",
       "    </tr>\n",
       "    <tr>\n",
       "      <th>3</th>\n",
       "      <td>1338232</td>\n",
       "      <td>1</td>\n",
       "      <td>55</td>\n",
       "      <td>2139</td>\n",
       "      <td>339.50</td>\n",
       "      <td>437.53</td>\n",
       "      <td>0</td>\n",
       "      <td>0</td>\n",
       "      <td>647</td>\n",
       "      <td>56</td>\n",
       "      <td>TYPE_C</td>\n",
       "      <td>2.0</td>\n",
       "      <td>Beverages</td>\n",
       "      <td>Indian</td>\n",
       "    </tr>\n",
       "    <tr>\n",
       "      <th>4</th>\n",
       "      <td>1448490</td>\n",
       "      <td>1</td>\n",
       "      <td>55</td>\n",
       "      <td>2631</td>\n",
       "      <td>243.50</td>\n",
       "      <td>242.50</td>\n",
       "      <td>0</td>\n",
       "      <td>0</td>\n",
       "      <td>647</td>\n",
       "      <td>56</td>\n",
       "      <td>TYPE_C</td>\n",
       "      <td>2.0</td>\n",
       "      <td>Beverages</td>\n",
       "      <td>Indian</td>\n",
       "    </tr>\n",
       "  </tbody>\n",
       "</table>\n",
       "</div>"
      ],
      "text/plain": [
       "        id  week  center_id  meal_id  checkout_price  base_price  \\\n",
       "0  1379560     1         55     1885          136.83      152.29   \n",
       "1  1466964     1         55     1993          136.83      135.83   \n",
       "2  1346989     1         55     2539          134.86      135.86   \n",
       "3  1338232     1         55     2139          339.50      437.53   \n",
       "4  1448490     1         55     2631          243.50      242.50   \n",
       "\n",
       "   emailer_for_promotion  homepage_featured  city_code  region_code  \\\n",
       "0                      0                  0        647           56   \n",
       "1                      0                  0        647           56   \n",
       "2                      0                  0        647           56   \n",
       "3                      0                  0        647           56   \n",
       "4                      0                  0        647           56   \n",
       "\n",
       "  center_type  op_area   category cuisine  \n",
       "0      TYPE_C      2.0  Beverages    Thai  \n",
       "1      TYPE_C      2.0  Beverages    Thai  \n",
       "2      TYPE_C      2.0  Beverages    Thai  \n",
       "3      TYPE_C      2.0  Beverages  Indian  \n",
       "4      TYPE_C      2.0  Beverages  Indian  "
      ]
     },
     "execution_count": 36,
     "metadata": {},
     "output_type": "execute_result"
    }
   ],
   "source": [
    "#merge meal info into total data\n",
    "total_data = total_data.merge(meal_info, on='meal_id', how='left')\n",
    "total_data.head()"
   ]
  },
  {
   "cell_type": "code",
   "execution_count": 37,
   "metadata": {
    "scrolled": false
   },
   "outputs": [
    {
     "name": "stdout",
     "output_type": "stream",
     "text": [
      "<class 'pandas.core.frame.DataFrame'>\n",
      "Int64Index: 489121 entries, 0 to 489120\n",
      "Data columns (total 14 columns):\n",
      " #   Column                 Non-Null Count   Dtype  \n",
      "---  ------                 --------------   -----  \n",
      " 0   id                     489121 non-null  int64  \n",
      " 1   week                   489121 non-null  int64  \n",
      " 2   center_id              489121 non-null  int64  \n",
      " 3   meal_id                489121 non-null  int64  \n",
      " 4   checkout_price         489121 non-null  float64\n",
      " 5   base_price             489121 non-null  float64\n",
      " 6   emailer_for_promotion  489121 non-null  int64  \n",
      " 7   homepage_featured      489121 non-null  int64  \n",
      " 8   city_code              489121 non-null  int64  \n",
      " 9   region_code            489121 non-null  int64  \n",
      " 10  center_type            489121 non-null  object \n",
      " 11  op_area                489121 non-null  float64\n",
      " 12  category               489121 non-null  object \n",
      " 13  cuisine                489121 non-null  object \n",
      "dtypes: float64(3), int64(8), object(3)\n",
      "memory usage: 56.0+ MB\n"
     ]
    }
   ],
   "source": [
    "total_data.info()"
   ]
  },
  {
   "cell_type": "code",
   "execution_count": 38,
   "metadata": {},
   "outputs": [
    {
     "data": {
      "text/html": [
       "<div>\n",
       "<style scoped>\n",
       "    .dataframe tbody tr th:only-of-type {\n",
       "        vertical-align: middle;\n",
       "    }\n",
       "\n",
       "    .dataframe tbody tr th {\n",
       "        vertical-align: top;\n",
       "    }\n",
       "\n",
       "    .dataframe thead th {\n",
       "        text-align: right;\n",
       "    }\n",
       "</style>\n",
       "<table border=\"1\" class=\"dataframe\">\n",
       "  <thead>\n",
       "    <tr style=\"text-align: right;\">\n",
       "      <th></th>\n",
       "      <th></th>\n",
       "      <th></th>\n",
       "      <th>base_price</th>\n",
       "    </tr>\n",
       "    <tr>\n",
       "      <th>meal_id</th>\n",
       "      <th>center_id</th>\n",
       "      <th>week</th>\n",
       "      <th></th>\n",
       "    </tr>\n",
       "  </thead>\n",
       "  <tbody>\n",
       "    <tr>\n",
       "      <th rowspan=\"5\" valign=\"top\">1062</th>\n",
       "      <th rowspan=\"5\" valign=\"top\">10</th>\n",
       "      <th>1</th>\n",
       "      <td>181.39</td>\n",
       "    </tr>\n",
       "    <tr>\n",
       "      <th>2</th>\n",
       "      <td>182.36</td>\n",
       "    </tr>\n",
       "    <tr>\n",
       "      <th>3</th>\n",
       "      <td>182.36</td>\n",
       "    </tr>\n",
       "    <tr>\n",
       "      <th>4</th>\n",
       "      <td>183.36</td>\n",
       "    </tr>\n",
       "    <tr>\n",
       "      <th>5</th>\n",
       "      <td>181.39</td>\n",
       "    </tr>\n",
       "  </tbody>\n",
       "</table>\n",
       "</div>"
      ],
      "text/plain": [
       "                        base_price\n",
       "meal_id center_id week            \n",
       "1062    10        1         181.39\n",
       "                  2         182.36\n",
       "                  3         182.36\n",
       "                  4         183.36\n",
       "                  5         181.39"
      ]
     },
     "execution_count": 38,
     "metadata": {},
     "output_type": "execute_result"
    }
   ],
   "source": [
    "#derive mean_base_price and discount (in percentage) using checkout_price and base_price\n",
    "meal_base_price = total_data[['week', 'center_id', 'meal_id', 'base_price']]\n",
    "meal_base_price = meal_base_price.set_index(['meal_id', 'center_id', 'week'])\n",
    "meal_base_price = meal_base_price.sort_index()\n",
    "meal_base_price.head()"
   ]
  },
  {
   "cell_type": "code",
   "execution_count": 39,
   "metadata": {},
   "outputs": [
    {
     "data": {
      "text/html": [
       "<div>\n",
       "<style scoped>\n",
       "    .dataframe tbody tr th:only-of-type {\n",
       "        vertical-align: middle;\n",
       "    }\n",
       "\n",
       "    .dataframe tbody tr th {\n",
       "        vertical-align: top;\n",
       "    }\n",
       "\n",
       "    .dataframe thead th {\n",
       "        text-align: right;\n",
       "    }\n",
       "</style>\n",
       "<table border=\"1\" class=\"dataframe\">\n",
       "  <thead>\n",
       "    <tr style=\"text-align: right;\">\n",
       "      <th></th>\n",
       "      <th></th>\n",
       "      <th></th>\n",
       "      <th>num_orders</th>\n",
       "    </tr>\n",
       "    <tr>\n",
       "      <th>meal_id</th>\n",
       "      <th>center_id</th>\n",
       "      <th>week</th>\n",
       "      <th></th>\n",
       "    </tr>\n",
       "  </thead>\n",
       "  <tbody>\n",
       "    <tr>\n",
       "      <th rowspan=\"5\" valign=\"top\">1062</th>\n",
       "      <th rowspan=\"5\" valign=\"top\">10</th>\n",
       "      <th>1</th>\n",
       "      <td>865</td>\n",
       "    </tr>\n",
       "    <tr>\n",
       "      <th>2</th>\n",
       "      <td>782</td>\n",
       "    </tr>\n",
       "    <tr>\n",
       "      <th>3</th>\n",
       "      <td>851</td>\n",
       "    </tr>\n",
       "    <tr>\n",
       "      <th>4</th>\n",
       "      <td>1202</td>\n",
       "    </tr>\n",
       "    <tr>\n",
       "      <th>5</th>\n",
       "      <td>958</td>\n",
       "    </tr>\n",
       "  </tbody>\n",
       "</table>\n",
       "</div>"
      ],
      "text/plain": [
       "                        num_orders\n",
       "meal_id center_id week            \n",
       "1062    10        1            865\n",
       "                  2            782\n",
       "                  3            851\n",
       "                  4           1202\n",
       "                  5            958"
      ]
     },
     "execution_count": 39,
     "metadata": {},
     "output_type": "execute_result"
    }
   ],
   "source": [
    "#derive average orders\n",
    "meal_per_center = training_data[['week', 'center_id', 'meal_id', 'num_orders']]\n",
    "meal_per_center = meal_per_center.set_index(['meal_id', 'center_id', 'week'])\n",
    "meal_per_center = meal_per_center.sort_index()\n",
    "meal_per_center.head()"
   ]
  },
  {
   "cell_type": "code",
   "execution_count": 40,
   "metadata": {},
   "outputs": [
    {
     "data": {
      "text/html": [
       "<div>\n",
       "<style scoped>\n",
       "    .dataframe tbody tr th:only-of-type {\n",
       "        vertical-align: middle;\n",
       "    }\n",
       "\n",
       "    .dataframe tbody tr th {\n",
       "        vertical-align: top;\n",
       "    }\n",
       "\n",
       "    .dataframe thead th {\n",
       "        text-align: right;\n",
       "    }\n",
       "</style>\n",
       "<table border=\"1\" class=\"dataframe\">\n",
       "  <thead>\n",
       "    <tr style=\"text-align: right;\">\n",
       "      <th></th>\n",
       "      <th></th>\n",
       "      <th>num_orders</th>\n",
       "    </tr>\n",
       "    <tr>\n",
       "      <th>meal_id</th>\n",
       "      <th>week</th>\n",
       "      <th></th>\n",
       "    </tr>\n",
       "  </thead>\n",
       "  <tbody>\n",
       "    <tr>\n",
       "      <th rowspan=\"5\" valign=\"top\">1062</th>\n",
       "      <th>1</th>\n",
       "      <td>391</td>\n",
       "    </tr>\n",
       "    <tr>\n",
       "      <th>1</th>\n",
       "      <td>514</td>\n",
       "    </tr>\n",
       "    <tr>\n",
       "      <th>1</th>\n",
       "      <td>798</td>\n",
       "    </tr>\n",
       "    <tr>\n",
       "      <th>1</th>\n",
       "      <td>284</td>\n",
       "    </tr>\n",
       "    <tr>\n",
       "      <th>1</th>\n",
       "      <td>256</td>\n",
       "    </tr>\n",
       "  </tbody>\n",
       "</table>\n",
       "</div>"
      ],
      "text/plain": [
       "              num_orders\n",
       "meal_id week            \n",
       "1062    1            391\n",
       "        1            514\n",
       "        1            798\n",
       "        1            284\n",
       "        1            256"
      ]
     },
     "execution_count": 40,
     "metadata": {},
     "output_type": "execute_result"
    }
   ],
   "source": [
    "meal_across_center = training_data[['week', 'meal_id', 'num_orders']]\n",
    "meal_across_center = meal_across_center.set_index(['meal_id', 'week'])\n",
    "meal_across_center = meal_across_center.sort_index()\n",
    "meal_across_center.head()"
   ]
  },
  {
   "cell_type": "code",
   "execution_count": 42,
   "metadata": {},
   "outputs": [
    {
     "data": {
      "text/plain": [
       "count    489088.000000\n",
       "mean        261.401847\n",
       "std         305.371162\n",
       "min           0.000000\n",
       "25%          66.714286\n",
       "50%         156.500000\n",
       "75%         341.785714\n",
       "max        8312.000000\n",
       "Name: avg_orders_13week, dtype: float64"
      ]
     },
     "execution_count": 42,
     "metadata": {},
     "output_type": "execute_result"
    }
   ],
   "source": [
    "def avg_orders(row):\n",
    "    if (row.meal_id, row.center_id) in meal_base_price.index:\n",
    "        row['mean_base_price'] = meal_base_price.loc[(row.meal_id, row.center_id)].loc[:row.week].base_price.mean()\n",
    "    else:\n",
    "        row['mean_base_price'] = row['base_price']\n",
    "        \n",
    "    week_adj = row.week - 10\n",
    "    if (row.meal_id, row.center_id) in meal_per_center.index:\n",
    "        hist = meal_per_center.loc[(row.meal_id, row.center_id)]\n",
    "        row['avg_orders_13week'] = hist.loc[(row.week-13):row.week].num_orders.mean()\n",
    "        row['avg_orders_26week'] = hist.loc[(row.week-26):row.week].num_orders.mean()\n",
    "        row['avg_orders_52week'] = hist.loc[(row.week-52):row.week].num_orders.mean()\n",
    "        row['avg_orders_13week_adj'] = hist.loc[(week_adj-13):week_adj].num_orders.mean()\n",
    "        row['avg_orders_26week_adj'] = hist.loc[(week_adj-26):week_adj].num_orders.mean()\n",
    "    else:\n",
    "        row['avg_orders_13week'] = 0\n",
    "        row['avg_orders_26week'] = 0\n",
    "        row['avg_orders_52week'] = 0\n",
    "        row['avg_orders_13week_adj'] = 0\n",
    "        row['avg_orders_26week_adj'] = 0\n",
    "        \n",
    "    if row.meal_id in meal_across_center.index:\n",
    "        hist_across = meal_across_center.loc[row.meal_id]\n",
    "        row['avg_orders_13week_across'] = hist_across.loc[(row.week-13):row.week].num_orders.mean()\n",
    "        row['avg_orders_26week_across'] = hist_across.loc[(row.week-26):row.week].num_orders.mean()\n",
    "        row['avg_orders_52week_across'] = hist_across.loc[(row.week-52):row.week].num_orders.mean()\n",
    "        row['avg_orders_13week_adj_across'] = hist_across.loc[(week_adj-13):week_adj].num_orders.mean()\n",
    "        row['avg_orders_26week_adj_across'] = hist_across.loc[(week_adj-26):week_adj].num_orders.mean()\n",
    "    else:\n",
    "        row['avg_orders_13week_across'] = 0\n",
    "        row['avg_orders_26week_across'] = 0\n",
    "        row['avg_orders_52week_across'] = 0\n",
    "        row['avg_orders_13week_adj_across'] = 0\n",
    "        row['avg_orders_26week_adj_across'] = 0\n",
    "    \n",
    "    return row\n",
    "    \n",
    "total_data = total_data.apply(avg_orders, axis=1)\n",
    "total_data['avg_orders_13week'].describe()"
   ]
  },
  {
   "cell_type": "code",
   "execution_count": 44,
   "metadata": {},
   "outputs": [
    {
     "data": {
      "text/plain": [
       "count    454948.000000\n",
       "mean        264.084699\n",
       "std         308.607584\n",
       "min           0.000000\n",
       "25%          67.000000\n",
       "50%         158.142857\n",
       "75%         345.714286\n",
       "max        8312.000000\n",
       "Name: avg_orders_13week_adj, dtype: float64"
      ]
     },
     "execution_count": 44,
     "metadata": {},
     "output_type": "execute_result"
    }
   ],
   "source": [
    "total_data['avg_orders_13week_adj'].describe()"
   ]
  },
  {
   "cell_type": "code",
   "execution_count": 45,
   "metadata": {},
   "outputs": [
    {
     "data": {
      "text/plain": [
       "count    489121.000000\n",
       "mean        261.546329\n",
       "std         228.685112\n",
       "min          13.000000\n",
       "25%          87.067308\n",
       "50%         182.153135\n",
       "75%         380.385475\n",
       "max        2439.792910\n",
       "Name: avg_orders_13week_across, dtype: float64"
      ]
     },
     "execution_count": 45,
     "metadata": {},
     "output_type": "execute_result"
    }
   ],
   "source": [
    "total_data['avg_orders_13week_across'].describe()"
   ]
  },
  {
   "cell_type": "code",
   "execution_count": 46,
   "metadata": {},
   "outputs": [
    {
     "data": {
      "text/plain": [
       "count    459359.000000\n",
       "mean        262.677119\n",
       "std         231.378155\n",
       "min          13.000000\n",
       "25%          85.612698\n",
       "50%         182.615616\n",
       "75%         381.244989\n",
       "max        2439.792910\n",
       "Name: avg_orders_13week_adj_across, dtype: float64"
      ]
     },
     "execution_count": 46,
     "metadata": {},
     "output_type": "execute_result"
    }
   ],
   "source": [
    "total_data['avg_orders_13week_adj_across'].describe()"
   ]
  },
  {
   "cell_type": "code",
   "execution_count": 47,
   "metadata": {},
   "outputs": [
    {
     "data": {
      "text/plain": [
       "count    489121.000000\n",
       "mean          0.057960\n",
       "std           0.130148\n",
       "min          -2.239083\n",
       "25%          -0.020159\n",
       "50%           0.007258\n",
       "75%           0.132584\n",
       "max           0.990654\n",
       "Name: discount, dtype: float64"
      ]
     },
     "execution_count": 47,
     "metadata": {},
     "output_type": "execute_result"
    }
   ],
   "source": [
    "total_data['discount'] = total_data['mean_base_price'] - total_data['checkout_price']\n",
    "total_data['discount'] = total_data['discount'] / total_data['mean_base_price']\n",
    "total_data.discount.describe()"
   ]
  },
  {
   "cell_type": "code",
   "execution_count": 48,
   "metadata": {},
   "outputs": [
    {
     "data": {
      "text/plain": [
       "3    167103\n",
       "2    167029\n",
       "1    154989\n",
       "Name: year, dtype: int64"
      ]
     },
     "execution_count": 48,
     "metadata": {},
     "output_type": "execute_result"
    }
   ],
   "source": [
    "total_data['year'] = (((total_data['week'] - 1)/52) + 1).astype('int')\n",
    "total_data.year.value_counts()"
   ]
  },
  {
   "cell_type": "code",
   "execution_count": 57,
   "metadata": {},
   "outputs": [
    {
     "data": {
      "text/plain": [
       "1    123367\n",
       "2    122940\n",
       "3    122788\n",
       "4    120026\n",
       "Name: week_in_month, dtype: int64"
      ]
     },
     "execution_count": 57,
     "metadata": {},
     "output_type": "execute_result"
    }
   ],
   "source": [
    "total_data['week_in_month'] = (((total_data['week'] - 1) % 4) + 1)\n",
    "total_data.week_in_month.value_counts()"
   ]
  },
  {
   "cell_type": "code",
   "execution_count": 58,
   "metadata": {},
   "outputs": [
    {
     "data": {
      "text/plain": [
       "11    38625\n",
       "12    38474\n",
       "8     38345\n",
       "9     38278\n",
       "10    38242\n",
       "7     38040\n",
       "5     37940\n",
       "6     37724\n",
       "1     37390\n",
       "4     37270\n",
       "3     37011\n",
       "2     36849\n",
       "13    34933\n",
       "Name: month, dtype: int64"
      ]
     },
     "execution_count": 58,
     "metadata": {},
     "output_type": "execute_result"
    }
   ],
   "source": [
    "\n",
    "total_data['month'] = (((total_data['week'] - 1)/4).astype('int') % 13) + 1\n",
    "total_data.month.value_counts()"
   ]
  },
  {
   "cell_type": "code",
   "execution_count": 59,
   "metadata": {},
   "outputs": [
    {
     "data": {
      "text/plain": [
       "3    124373\n",
       "2    122513\n",
       "4    121634\n",
       "1    120601\n",
       "Name: quarter, dtype: int64"
      ]
     },
     "execution_count": 59,
     "metadata": {},
     "output_type": "execute_result"
    }
   ],
   "source": [
    "total_data['quarter'] = (((total_data['week'] - 1)/13).astype('int') % 4) + 1\n",
    "total_data.quarter.value_counts()"
   ]
  },
  {
   "cell_type": "code",
   "execution_count": 60,
   "metadata": {},
   "outputs": [
    {
     "data": {
      "text/html": [
       "<div>\n",
       "<style scoped>\n",
       "    .dataframe tbody tr th:only-of-type {\n",
       "        vertical-align: middle;\n",
       "    }\n",
       "\n",
       "    .dataframe tbody tr th {\n",
       "        vertical-align: top;\n",
       "    }\n",
       "\n",
       "    .dataframe thead th {\n",
       "        text-align: right;\n",
       "    }\n",
       "</style>\n",
       "<table border=\"1\" class=\"dataframe\">\n",
       "  <thead>\n",
       "    <tr style=\"text-align: right;\">\n",
       "      <th></th>\n",
       "      <th>id</th>\n",
       "      <th>num_orders</th>\n",
       "      <th>week</th>\n",
       "      <th>center_id</th>\n",
       "      <th>meal_id</th>\n",
       "      <th>checkout_price</th>\n",
       "      <th>base_price</th>\n",
       "      <th>emailer_for_promotion</th>\n",
       "      <th>homepage_featured</th>\n",
       "      <th>city_code</th>\n",
       "      <th>...</th>\n",
       "      <th>avg_orders_13week_across</th>\n",
       "      <th>avg_orders_26week_across</th>\n",
       "      <th>avg_orders_52week_across</th>\n",
       "      <th>avg_orders_13week_adj_across</th>\n",
       "      <th>avg_orders_26week_adj_across</th>\n",
       "      <th>discount</th>\n",
       "      <th>year</th>\n",
       "      <th>month</th>\n",
       "      <th>quarter</th>\n",
       "      <th>week_in_month</th>\n",
       "    </tr>\n",
       "  </thead>\n",
       "  <tbody>\n",
       "    <tr>\n",
       "      <th>0</th>\n",
       "      <td>1379560</td>\n",
       "      <td>177</td>\n",
       "      <td>1</td>\n",
       "      <td>55</td>\n",
       "      <td>1885</td>\n",
       "      <td>136.83</td>\n",
       "      <td>152.29</td>\n",
       "      <td>0</td>\n",
       "      <td>0</td>\n",
       "      <td>647</td>\n",
       "      <td>...</td>\n",
       "      <td>726.506494</td>\n",
       "      <td>726.506494</td>\n",
       "      <td>726.506494</td>\n",
       "      <td>NaN</td>\n",
       "      <td>NaN</td>\n",
       "      <td>0.101517</td>\n",
       "      <td>1</td>\n",
       "      <td>1</td>\n",
       "      <td>1</td>\n",
       "      <td>1</td>\n",
       "    </tr>\n",
       "    <tr>\n",
       "      <th>1</th>\n",
       "      <td>1466964</td>\n",
       "      <td>270</td>\n",
       "      <td>1</td>\n",
       "      <td>55</td>\n",
       "      <td>1993</td>\n",
       "      <td>136.83</td>\n",
       "      <td>135.83</td>\n",
       "      <td>0</td>\n",
       "      <td>0</td>\n",
       "      <td>647</td>\n",
       "      <td>...</td>\n",
       "      <td>793.896104</td>\n",
       "      <td>793.896104</td>\n",
       "      <td>793.896104</td>\n",
       "      <td>NaN</td>\n",
       "      <td>NaN</td>\n",
       "      <td>-0.007362</td>\n",
       "      <td>1</td>\n",
       "      <td>1</td>\n",
       "      <td>1</td>\n",
       "      <td>1</td>\n",
       "    </tr>\n",
       "    <tr>\n",
       "      <th>2</th>\n",
       "      <td>1346989</td>\n",
       "      <td>189</td>\n",
       "      <td>1</td>\n",
       "      <td>55</td>\n",
       "      <td>2539</td>\n",
       "      <td>134.86</td>\n",
       "      <td>135.86</td>\n",
       "      <td>0</td>\n",
       "      <td>0</td>\n",
       "      <td>647</td>\n",
       "      <td>...</td>\n",
       "      <td>272.116883</td>\n",
       "      <td>272.116883</td>\n",
       "      <td>272.116883</td>\n",
       "      <td>NaN</td>\n",
       "      <td>NaN</td>\n",
       "      <td>0.007361</td>\n",
       "      <td>1</td>\n",
       "      <td>1</td>\n",
       "      <td>1</td>\n",
       "      <td>1</td>\n",
       "    </tr>\n",
       "    <tr>\n",
       "      <th>3</th>\n",
       "      <td>1338232</td>\n",
       "      <td>54</td>\n",
       "      <td>1</td>\n",
       "      <td>55</td>\n",
       "      <td>2139</td>\n",
       "      <td>339.50</td>\n",
       "      <td>437.53</td>\n",
       "      <td>0</td>\n",
       "      <td>0</td>\n",
       "      <td>647</td>\n",
       "      <td>...</td>\n",
       "      <td>49.709677</td>\n",
       "      <td>49.709677</td>\n",
       "      <td>49.709677</td>\n",
       "      <td>NaN</td>\n",
       "      <td>NaN</td>\n",
       "      <td>0.224053</td>\n",
       "      <td>1</td>\n",
       "      <td>1</td>\n",
       "      <td>1</td>\n",
       "      <td>1</td>\n",
       "    </tr>\n",
       "    <tr>\n",
       "      <th>4</th>\n",
       "      <td>1448490</td>\n",
       "      <td>40</td>\n",
       "      <td>1</td>\n",
       "      <td>55</td>\n",
       "      <td>2631</td>\n",
       "      <td>243.50</td>\n",
       "      <td>242.50</td>\n",
       "      <td>0</td>\n",
       "      <td>0</td>\n",
       "      <td>647</td>\n",
       "      <td>...</td>\n",
       "      <td>74.014085</td>\n",
       "      <td>74.014085</td>\n",
       "      <td>74.014085</td>\n",
       "      <td>NaN</td>\n",
       "      <td>NaN</td>\n",
       "      <td>-0.004124</td>\n",
       "      <td>1</td>\n",
       "      <td>1</td>\n",
       "      <td>1</td>\n",
       "      <td>1</td>\n",
       "    </tr>\n",
       "  </tbody>\n",
       "</table>\n",
       "<p>5 rows × 31 columns</p>\n",
       "</div>"
      ],
      "text/plain": [
       "        id  num_orders  week  center_id  meal_id  checkout_price  base_price  \\\n",
       "0  1379560         177     1         55     1885          136.83      152.29   \n",
       "1  1466964         270     1         55     1993          136.83      135.83   \n",
       "2  1346989         189     1         55     2539          134.86      135.86   \n",
       "3  1338232          54     1         55     2139          339.50      437.53   \n",
       "4  1448490          40     1         55     2631          243.50      242.50   \n",
       "\n",
       "   emailer_for_promotion  homepage_featured  city_code  ...  \\\n",
       "0                      0                  0        647  ...   \n",
       "1                      0                  0        647  ...   \n",
       "2                      0                  0        647  ...   \n",
       "3                      0                  0        647  ...   \n",
       "4                      0                  0        647  ...   \n",
       "\n",
       "   avg_orders_13week_across avg_orders_26week_across  \\\n",
       "0                726.506494               726.506494   \n",
       "1                793.896104               793.896104   \n",
       "2                272.116883               272.116883   \n",
       "3                 49.709677                49.709677   \n",
       "4                 74.014085                74.014085   \n",
       "\n",
       "   avg_orders_52week_across avg_orders_13week_adj_across  \\\n",
       "0                726.506494                          NaN   \n",
       "1                793.896104                          NaN   \n",
       "2                272.116883                          NaN   \n",
       "3                 49.709677                          NaN   \n",
       "4                 74.014085                          NaN   \n",
       "\n",
       "  avg_orders_26week_adj_across  discount  year  month  quarter  week_in_month  \n",
       "0                          NaN  0.101517     1      1        1              1  \n",
       "1                          NaN -0.007362     1      1        1              1  \n",
       "2                          NaN  0.007361     1      1        1              1  \n",
       "3                          NaN  0.224053     1      1        1              1  \n",
       "4                          NaN -0.004124     1      1        1              1  \n",
       "\n",
       "[5 rows x 31 columns]"
      ]
     },
     "execution_count": 60,
     "metadata": {},
     "output_type": "execute_result"
    }
   ],
   "source": [
    "training_data = training_data[['id', 'num_orders']].merge(total_data, on='id', how='left')\n",
    "training_data.head()"
   ]
  },
  {
   "cell_type": "code",
   "execution_count": 61,
   "metadata": {
    "scrolled": false
   },
   "outputs": [
    {
     "name": "stdout",
     "output_type": "stream",
     "text": [
      "<class 'pandas.core.frame.DataFrame'>\n",
      "Int64Index: 456548 entries, 0 to 456547\n",
      "Data columns (total 31 columns):\n",
      " #   Column                        Non-Null Count   Dtype  \n",
      "---  ------                        --------------   -----  \n",
      " 0   id                            456548 non-null  int64  \n",
      " 1   num_orders                    456548 non-null  int64  \n",
      " 2   week                          456548 non-null  int64  \n",
      " 3   center_id                     456548 non-null  int64  \n",
      " 4   meal_id                       456548 non-null  int64  \n",
      " 5   checkout_price                456548 non-null  float64\n",
      " 6   base_price                    456548 non-null  float64\n",
      " 7   emailer_for_promotion         456548 non-null  int64  \n",
      " 8   homepage_featured             456548 non-null  int64  \n",
      " 9   city_code                     456548 non-null  int64  \n",
      " 10  region_code                   456548 non-null  int64  \n",
      " 11  center_type                   456548 non-null  object \n",
      " 12  op_area                       456548 non-null  float64\n",
      " 13  category                      456548 non-null  object \n",
      " 14  cuisine                       456548 non-null  object \n",
      " 15  mean_base_price               456548 non-null  float64\n",
      " 16  avg_orders_13week             456548 non-null  float64\n",
      " 17  avg_orders_26week             456548 non-null  float64\n",
      " 18  avg_orders_52week             456548 non-null  float64\n",
      " 19  avg_orders_13week_adj         422449 non-null  float64\n",
      " 20  avg_orders_26week_adj         423016 non-null  float64\n",
      " 21  avg_orders_13week_across      456548 non-null  float64\n",
      " 22  avg_orders_26week_across      456548 non-null  float64\n",
      " 23  avg_orders_52week_across      456548 non-null  float64\n",
      " 24  avg_orders_13week_adj_across  426786 non-null  float64\n",
      " 25  avg_orders_26week_adj_across  426786 non-null  float64\n",
      " 26  discount                      456548 non-null  float64\n",
      " 27  year                          456548 non-null  int32  \n",
      " 28  month                         456548 non-null  int32  \n",
      " 29  quarter                       456548 non-null  int32  \n",
      " 30  week_in_month                 456548 non-null  int64  \n",
      "dtypes: float64(15), int32(3), int64(10), object(3)\n",
      "memory usage: 106.2+ MB\n"
     ]
    }
   ],
   "source": [
    "training_data.info()\n"
   ]
  },
  {
   "cell_type": "code",
   "execution_count": 62,
   "metadata": {},
   "outputs": [],
   "source": [
    "training_data.to_csv('train_feature.csv', index=False)\n"
   ]
  },
  {
   "cell_type": "code",
   "execution_count": 63,
   "metadata": {},
   "outputs": [
    {
     "data": {
      "text/html": [
       "<div>\n",
       "<style scoped>\n",
       "    .dataframe tbody tr th:only-of-type {\n",
       "        vertical-align: middle;\n",
       "    }\n",
       "\n",
       "    .dataframe tbody tr th {\n",
       "        vertical-align: top;\n",
       "    }\n",
       "\n",
       "    .dataframe thead th {\n",
       "        text-align: right;\n",
       "    }\n",
       "</style>\n",
       "<table border=\"1\" class=\"dataframe\">\n",
       "  <thead>\n",
       "    <tr style=\"text-align: right;\">\n",
       "      <th></th>\n",
       "      <th>id</th>\n",
       "      <th>week</th>\n",
       "      <th>center_id</th>\n",
       "      <th>meal_id</th>\n",
       "      <th>checkout_price</th>\n",
       "      <th>base_price</th>\n",
       "      <th>emailer_for_promotion</th>\n",
       "      <th>homepage_featured</th>\n",
       "      <th>city_code</th>\n",
       "      <th>region_code</th>\n",
       "      <th>...</th>\n",
       "      <th>avg_orders_13week_across</th>\n",
       "      <th>avg_orders_26week_across</th>\n",
       "      <th>avg_orders_52week_across</th>\n",
       "      <th>avg_orders_13week_adj_across</th>\n",
       "      <th>avg_orders_26week_adj_across</th>\n",
       "      <th>discount</th>\n",
       "      <th>year</th>\n",
       "      <th>month</th>\n",
       "      <th>quarter</th>\n",
       "      <th>week_in_month</th>\n",
       "    </tr>\n",
       "  </thead>\n",
       "  <tbody>\n",
       "    <tr>\n",
       "      <th>0</th>\n",
       "      <td>1028232</td>\n",
       "      <td>146</td>\n",
       "      <td>55</td>\n",
       "      <td>1885</td>\n",
       "      <td>158.11</td>\n",
       "      <td>159.11</td>\n",
       "      <td>0</td>\n",
       "      <td>0</td>\n",
       "      <td>647</td>\n",
       "      <td>56</td>\n",
       "      <td>...</td>\n",
       "      <td>718.100000</td>\n",
       "      <td>719.609915</td>\n",
       "      <td>750.125657</td>\n",
       "      <td>718.923721</td>\n",
       "      <td>711.837838</td>\n",
       "      <td>-0.083689</td>\n",
       "      <td>3</td>\n",
       "      <td>11</td>\n",
       "      <td>4</td>\n",
       "      <td>2</td>\n",
       "    </tr>\n",
       "    <tr>\n",
       "      <th>1</th>\n",
       "      <td>1127204</td>\n",
       "      <td>146</td>\n",
       "      <td>55</td>\n",
       "      <td>1993</td>\n",
       "      <td>160.11</td>\n",
       "      <td>159.11</td>\n",
       "      <td>0</td>\n",
       "      <td>0</td>\n",
       "      <td>647</td>\n",
       "      <td>56</td>\n",
       "      <td>...</td>\n",
       "      <td>486.656344</td>\n",
       "      <td>493.422289</td>\n",
       "      <td>528.837337</td>\n",
       "      <td>485.195915</td>\n",
       "      <td>507.465476</td>\n",
       "      <td>-0.097471</td>\n",
       "      <td>3</td>\n",
       "      <td>11</td>\n",
       "      <td>4</td>\n",
       "      <td>2</td>\n",
       "    </tr>\n",
       "    <tr>\n",
       "      <th>2</th>\n",
       "      <td>1212707</td>\n",
       "      <td>146</td>\n",
       "      <td>55</td>\n",
       "      <td>2539</td>\n",
       "      <td>157.14</td>\n",
       "      <td>159.14</td>\n",
       "      <td>0</td>\n",
       "      <td>0</td>\n",
       "      <td>647</td>\n",
       "      <td>56</td>\n",
       "      <td>...</td>\n",
       "      <td>222.087613</td>\n",
       "      <td>226.483723</td>\n",
       "      <td>264.149211</td>\n",
       "      <td>223.408144</td>\n",
       "      <td>226.485104</td>\n",
       "      <td>-0.074594</td>\n",
       "      <td>3</td>\n",
       "      <td>11</td>\n",
       "      <td>4</td>\n",
       "      <td>2</td>\n",
       "    </tr>\n",
       "    <tr>\n",
       "      <th>3</th>\n",
       "      <td>1082698</td>\n",
       "      <td>146</td>\n",
       "      <td>55</td>\n",
       "      <td>2631</td>\n",
       "      <td>162.02</td>\n",
       "      <td>162.02</td>\n",
       "      <td>0</td>\n",
       "      <td>0</td>\n",
       "      <td>647</td>\n",
       "      <td>56</td>\n",
       "      <td>...</td>\n",
       "      <td>137.327331</td>\n",
       "      <td>116.760939</td>\n",
       "      <td>106.818255</td>\n",
       "      <td>112.733799</td>\n",
       "      <td>110.001028</td>\n",
       "      <td>0.046584</td>\n",
       "      <td>3</td>\n",
       "      <td>11</td>\n",
       "      <td>4</td>\n",
       "      <td>2</td>\n",
       "    </tr>\n",
       "    <tr>\n",
       "      <th>4</th>\n",
       "      <td>1400926</td>\n",
       "      <td>146</td>\n",
       "      <td>55</td>\n",
       "      <td>1248</td>\n",
       "      <td>163.93</td>\n",
       "      <td>163.93</td>\n",
       "      <td>0</td>\n",
       "      <td>0</td>\n",
       "      <td>647</td>\n",
       "      <td>56</td>\n",
       "      <td>...</td>\n",
       "      <td>96.961538</td>\n",
       "      <td>84.167702</td>\n",
       "      <td>72.140451</td>\n",
       "      <td>81.720856</td>\n",
       "      <td>76.970362</td>\n",
       "      <td>0.042897</td>\n",
       "      <td>3</td>\n",
       "      <td>11</td>\n",
       "      <td>4</td>\n",
       "      <td>2</td>\n",
       "    </tr>\n",
       "  </tbody>\n",
       "</table>\n",
       "<p>5 rows × 30 columns</p>\n",
       "</div>"
      ],
      "text/plain": [
       "        id  week  center_id  meal_id  checkout_price  base_price  \\\n",
       "0  1028232   146         55     1885          158.11      159.11   \n",
       "1  1127204   146         55     1993          160.11      159.11   \n",
       "2  1212707   146         55     2539          157.14      159.14   \n",
       "3  1082698   146         55     2631          162.02      162.02   \n",
       "4  1400926   146         55     1248          163.93      163.93   \n",
       "\n",
       "   emailer_for_promotion  homepage_featured  city_code  region_code  ...  \\\n",
       "0                      0                  0        647           56  ...   \n",
       "1                      0                  0        647           56  ...   \n",
       "2                      0                  0        647           56  ...   \n",
       "3                      0                  0        647           56  ...   \n",
       "4                      0                  0        647           56  ...   \n",
       "\n",
       "  avg_orders_13week_across  avg_orders_26week_across avg_orders_52week_across  \\\n",
       "0               718.100000                719.609915               750.125657   \n",
       "1               486.656344                493.422289               528.837337   \n",
       "2               222.087613                226.483723               264.149211   \n",
       "3               137.327331                116.760939               106.818255   \n",
       "4                96.961538                 84.167702                72.140451   \n",
       "\n",
       "  avg_orders_13week_adj_across  avg_orders_26week_adj_across  discount  year  \\\n",
       "0                   718.923721                    711.837838 -0.083689     3   \n",
       "1                   485.195915                    507.465476 -0.097471     3   \n",
       "2                   223.408144                    226.485104 -0.074594     3   \n",
       "3                   112.733799                    110.001028  0.046584     3   \n",
       "4                    81.720856                     76.970362  0.042897     3   \n",
       "\n",
       "   month  quarter  week_in_month  \n",
       "0     11        4              2  \n",
       "1     11        4              2  \n",
       "2     11        4              2  \n",
       "3     11        4              2  \n",
       "4     11        4              2  \n",
       "\n",
       "[5 rows x 30 columns]"
      ]
     },
     "execution_count": 63,
     "metadata": {},
     "output_type": "execute_result"
    }
   ],
   "source": [
    "test_data = test_data[['id']].merge(total_data, on='id', how='left')\n",
    "test_data.head()\n"
   ]
  },
  {
   "cell_type": "code",
   "execution_count": 64,
   "metadata": {},
   "outputs": [
    {
     "name": "stdout",
     "output_type": "stream",
     "text": [
      "<class 'pandas.core.frame.DataFrame'>\n",
      "Int64Index: 32573 entries, 0 to 32572\n",
      "Data columns (total 30 columns):\n",
      " #   Column                        Non-Null Count  Dtype  \n",
      "---  ------                        --------------  -----  \n",
      " 0   id                            32573 non-null  int64  \n",
      " 1   week                          32573 non-null  int64  \n",
      " 2   center_id                     32573 non-null  int64  \n",
      " 3   meal_id                       32573 non-null  int64  \n",
      " 4   checkout_price                32573 non-null  float64\n",
      " 5   base_price                    32573 non-null  float64\n",
      " 6   emailer_for_promotion         32573 non-null  int64  \n",
      " 7   homepage_featured             32573 non-null  int64  \n",
      " 8   city_code                     32573 non-null  int64  \n",
      " 9   region_code                   32573 non-null  int64  \n",
      " 10  center_type                   32573 non-null  object \n",
      " 11  op_area                       32573 non-null  float64\n",
      " 12  category                      32573 non-null  object \n",
      " 13  cuisine                       32573 non-null  object \n",
      " 14  mean_base_price               32573 non-null  float64\n",
      " 15  avg_orders_13week             32540 non-null  float64\n",
      " 16  avg_orders_26week             32571 non-null  float64\n",
      " 17  avg_orders_52week             32572 non-null  float64\n",
      " 18  avg_orders_13week_adj         32499 non-null  float64\n",
      " 19  avg_orders_26week_adj         32507 non-null  float64\n",
      " 20  avg_orders_13week_across      32573 non-null  float64\n",
      " 21  avg_orders_26week_across      32573 non-null  float64\n",
      " 22  avg_orders_52week_across      32573 non-null  float64\n",
      " 23  avg_orders_13week_adj_across  32573 non-null  float64\n",
      " 24  avg_orders_26week_adj_across  32573 non-null  float64\n",
      " 25  discount                      32573 non-null  float64\n",
      " 26  year                          32573 non-null  int32  \n",
      " 27  month                         32573 non-null  int32  \n",
      " 28  quarter                       32573 non-null  int32  \n",
      " 29  week_in_month                 32573 non-null  int64  \n",
      "dtypes: float64(15), int32(3), int64(9), object(3)\n",
      "memory usage: 7.3+ MB\n"
     ]
    }
   ],
   "source": [
    "test_data.info()\n"
   ]
  },
  {
   "cell_type": "code",
   "execution_count": 65,
   "metadata": {},
   "outputs": [],
   "source": [
    "test_data.to_csv('test_feature.csv', index=False)\n"
   ]
  },
  {
   "cell_type": "code",
   "execution_count": null,
   "metadata": {},
   "outputs": [],
   "source": []
  },
  {
   "cell_type": "code",
   "execution_count": null,
   "metadata": {},
   "outputs": [],
   "source": []
  },
  {
   "cell_type": "code",
   "execution_count": null,
   "metadata": {},
   "outputs": [],
   "source": []
  },
  {
   "cell_type": "code",
   "execution_count": null,
   "metadata": {},
   "outputs": [],
   "source": []
  },
  {
   "cell_type": "code",
   "execution_count": null,
   "metadata": {},
   "outputs": [],
   "source": []
  }
 ],
 "metadata": {
  "kernelspec": {
   "display_name": "Python 3",
   "language": "python",
   "name": "python3"
  },
  "language_info": {
   "codemirror_mode": {
    "name": "ipython",
    "version": 3
   },
   "file_extension": ".py",
   "mimetype": "text/x-python",
   "name": "python",
   "nbconvert_exporter": "python",
   "pygments_lexer": "ipython3",
   "version": "3.8.3"
  }
 },
 "nbformat": 4,
 "nbformat_minor": 4
}
